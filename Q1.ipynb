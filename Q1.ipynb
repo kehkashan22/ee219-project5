{
 "cells": [
  {
   "cell_type": "markdown",
   "metadata": {},
   "source": [
    "### QUESTION 1: \n",
    "\n",
    "Report the following statistics for each hashtag, i.e. each file:\n",
    "* Average number of tweets per hour\n",
    "* Average number of followers of users posting the tweets per tweet (to make it simple, we average over the number of tweets; if a users posted twice, we count the user and the user’s followers twice as well)\n",
    "* Average number of retweets per tweet\n"
   ]
  },
  {
   "cell_type": "code",
   "execution_count": 1,
   "metadata": {},
   "outputs": [],
   "source": [
    "hash_tags = ['#gohawks','#gopatriots','#nfl','#patriots','#sb49','#superbowl']"
   ]
  },
  {
   "cell_type": "code",
   "execution_count": 5,
   "metadata": {},
   "outputs": [],
   "source": [
    "import numpy as np\n",
    "import datetime\n",
    "import json\n",
    "\n",
    "\n",
    "def getHourAsKey(timestamp):\n",
    "    d = datetime.datetime.fromtimestamp(timestamp)\n",
    "    return \"{}:{}:{}:{}\".format(d.year,d.month,d.day,d.hour)\n",
    "\n",
    "def printStatistics(tag):\n",
    "    hourToTweets = {}\n",
    "    followerCount = 0.0\n",
    "    tweetCount = 0.0\n",
    "    retweetCount = 0.0\n",
    "\n",
    "    filename = 'data/tweets_'+tag+'.txt'\n",
    "    with open(filename) as f:\n",
    "        for line in f:\n",
    "            json_object = json.loads(line)\n",
    "            followerCount+=json_object['author']['followers']\n",
    "            tweetCount+=1\n",
    "            \n",
    "            key = getHourAsKey(json_object['citation_date'])\n",
    "            if key not in hourToTweets.keys():\n",
    "                hourToTweets[key]=0\n",
    "            hourToTweets[key]+=1\n",
    "            \n",
    "            retweetCount+=json_object['metrics']['citations']['total']\n",
    "    \n",
    "    print(\"Average number of tweets/hr for {} = {}\".format(tag,np.mean(list(hourToTweets.values()))))\n",
    "    print(\"Average number of retweets/tweet for {} = {}\".format(tag,retweetCount/tweetCount))\n",
    "    print(\"Average number of followers/user for {} = {}\".format(tag,followerCount/tweetCount))            "
   ]
  },
  {
   "cell_type": "code",
   "execution_count": 8,
   "metadata": {},
   "outputs": [
    {
     "name": "stdout",
     "output_type": "stream",
     "text": [
      "------------------------------------------------------------\n",
      "Average number of tweets/hr for #gohawks = 296.70526315789476\n",
      "Average number of retweets/tweet for #gohawks = 2.0132093991319877\n",
      "Average number of followers/user for #gohawks = 2217.9237355281984\n",
      "------------------------------------------------------------\n",
      "------------------------------------------------------------\n",
      "Average number of tweets/hr for #gopatriots = 53.31292517006803\n",
      "Average number of retweets/tweet for #gopatriots = 1.4081919101697078\n",
      "Average number of followers/user for #gopatriots = 1427.2526051635405\n",
      "------------------------------------------------------------\n",
      "------------------------------------------------------------\n",
      "Average number of tweets/hr for #nfl = 399.69468267581476\n",
      "Average number of retweets/tweet for #nfl = 1.5344602655543254\n",
      "Average number of followers/user for #nfl = 4662.37544523693\n",
      "------------------------------------------------------------\n",
      "------------------------------------------------------------\n",
      "Average number of tweets/hr for #patriots = 750.6320272572402\n",
      "Average number of retweets/tweet for #patriots = 1.7852871288476946\n",
      "Average number of followers/user for #patriots = 3280.4635616550277\n",
      "------------------------------------------------------------\n",
      "------------------------------------------------------------\n",
      "Average number of tweets/hr for #sb49 = 1384.8212290502793\n",
      "Average number of retweets/tweet for #sb49 = 2.52713444111402\n",
      "Average number of followers/user for #sb49 = 10374.160292019487\n",
      "------------------------------------------------------------\n",
      "------------------------------------------------------------\n",
      "Average number of tweets/hr for #superbowl = 2067.824531516184\n",
      "Average number of retweets/tweet for #superbowl = 2.3911895819207736\n",
      "Average number of followers/user for #superbowl = 8814.96799424623\n",
      "------------------------------------------------------------\n"
     ]
    }
   ],
   "source": [
    "for h in hash_tags:\n",
    "    print('---'*20)\n",
    "    printStatistics(h)\n",
    "    print('---'*20)"
   ]
  }
 ],
 "metadata": {
  "kernelspec": {
   "display_name": "Python 3",
   "language": "python",
   "name": "python3"
  },
  "language_info": {
   "codemirror_mode": {
    "name": "ipython",
    "version": 3
   },
   "file_extension": ".py",
   "mimetype": "text/x-python",
   "name": "python",
   "nbconvert_exporter": "python",
   "pygments_lexer": "ipython3",
   "version": "3.6.0"
  }
 },
 "nbformat": 4,
 "nbformat_minor": 2
}
