{
 "cells": [
  {
   "cell_type": "markdown",
   "metadata": {},
   "source": [
    "### QUESTION 1: \n",
    "\n",
    "Report the following statistics for each hashtag, i.e. each file:\n",
    "* Average number of tweets per hour\n",
    "* Average number of followers of users posting the tweets per tweet (to make it simple, we average over the number of tweets; if a users posted twice, we count the user and the user’s followers twice as well)\n",
    "* Average number of retweets per tweet\n"
   ]
  },
  {
   "cell_type": "code",
   "execution_count": 6,
   "metadata": {},
   "outputs": [],
   "source": [
    "hash_tags = ['#gohawks','#gopatriots','#nfl','#patriots','#sb49','#superbowl']"
   ]
  },
  {
   "cell_type": "code",
   "execution_count": 7,
   "metadata": {},
   "outputs": [],
   "source": [
    "MODE='FRESH'\n",
    "\n",
    "import pickle\n",
    "\n",
    "def save_object(data, fileName):\n",
    "    with open(fileName + \".pickle\", 'wb') as f:\n",
    "        pickle.dump(data, f, pickle.HIGHEST_PROTOCOL)\n",
    "        \n",
    "def load_object(fileName):\n",
    "    try:\n",
    "        with open(fileName + \".pickle\", 'rb') as f:\n",
    "            data = pickle.load(f)\n",
    "            return data\n",
    "    except IOError:\n",
    "        print(\"Could not read file: \" + fileName)"
   ]
  },
  {
   "cell_type": "code",
   "execution_count": 8,
   "metadata": {},
   "outputs": [],
   "source": [
    "import json\n",
    "\n",
    "def getMinAndMaxTs(tag):\n",
    "    filename = 'data/tweets_'+tag+'.txt'\n",
    "    max_ts = 0\n",
    "    min_ts = 1552522378\n",
    "    with open(filename) as f:\n",
    "        for line in f:\n",
    "            json_object = json.loads(line)\n",
    "            timestamp = json_object['citation_date']\n",
    "            if(timestamp < min_ts):                \n",
    "                min_ts = timestamp\n",
    "            \n",
    "            if(timestamp > max_ts):\n",
    "                max_ts = timestamp\n",
    "                \n",
    "    return [min_ts,max_ts]\n",
    "\n",
    "tagsToMinTs = {}\n",
    "tagsToMaxTs = {}\n",
    "for tag in hash_tags:\n",
    "    ts_list = getMinAndMaxTs(tag)\n",
    "    tagsToMinTs[tag] = (ts_list[0])\n",
    "    tagsToMaxTs[tag] = (ts_list[1])    "
   ]
  },
  {
   "cell_type": "code",
   "execution_count": 9,
   "metadata": {},
   "outputs": [],
   "source": [
    "import numpy as np\n",
    "import datetime\n",
    "import json\n",
    "\n",
    "\n",
    "def printStatistics(tag):\n",
    "    hourToTweets = {}\n",
    "    followerCount = 0.0\n",
    "    tweetCount = 0.0\n",
    "    retweetCount = 0.0\n",
    "\n",
    "    filename = 'data/tweets_'+tag+'.txt'\n",
    "    with open(filename) as f:        \n",
    "        for line in f:\n",
    "            json_object = json.loads(line)\n",
    "            followerCount+=json_object['author']['followers']\n",
    "            tweetCount+=1\n",
    "    \n",
    "            datetime = json_object['citation_date']\n",
    "            \n",
    "            retweetCount+=json_object['metrics']['citations']['total']\n",
    "        \n",
    "        \n",
    "    hours = (tagsToMaxTs[tag] - tagsToMinTs[tag]) // 3600\n",
    "    \n",
    "    print(\"Average number of tweets/hr for {} = {}\".format(tag,tweetCount/hours))\n",
    "    print(\"Average number of retweets/tweet for {} = {}\".format(tag,retweetCount/tweetCount))\n",
    "    print(\"Average number of followers/user for {} = {}\".format(tag,followerCount/tweetCount))     \n"
   ]
  },
  {
   "cell_type": "code",
   "execution_count": 10,
   "metadata": {},
   "outputs": [
    {
     "name": "stdout",
     "output_type": "stream",
     "text": [
      "------------------------------------------------------------\n",
      "Average number of tweets/hr for #gohawks = 292.598615916955\n",
      "Average number of retweets/tweet for #gohawks = 2.0132093991319877\n",
      "Average number of followers/user for #gohawks = 2217.9237355281984\n",
      "------------------------------------------------------------\n",
      "------------------------------------------------------------\n",
      "Average number of tweets/hr for #gopatriots = 40.95993031358885\n",
      "Average number of retweets/tweet for #gopatriots = 1.4081919101697078\n",
      "Average number of followers/user for #gopatriots = 1427.2526051635405\n",
      "------------------------------------------------------------\n",
      "------------------------------------------------------------\n",
      "Average number of tweets/hr for #nfl = 397.64846416382255\n",
      "Average number of retweets/tweet for #nfl = 1.5344602655543254\n",
      "Average number of followers/user for #nfl = 4662.37544523693\n",
      "------------------------------------------------------------\n",
      "------------------------------------------------------------\n",
      "Average number of tweets/hr for #patriots = 751.9129692832764\n",
      "Average number of retweets/tweet for #patriots = 1.7852871288476946\n",
      "Average number of followers/user for #patriots = 3280.4635616550277\n",
      "------------------------------------------------------------\n",
      "------------------------------------------------------------\n",
      "Average number of tweets/hr for #sb49 = 1277.7474226804125\n",
      "Average number of retweets/tweet for #sb49 = 2.52713444111402\n",
      "Average number of followers/user for #sb49 = 10374.160292019487\n",
      "------------------------------------------------------------\n",
      "------------------------------------------------------------\n",
      "Average number of tweets/hr for #superbowl = 2074.8940170940173\n",
      "Average number of retweets/tweet for #superbowl = 2.3911895819207736\n",
      "Average number of followers/user for #superbowl = 8814.96799424623\n",
      "------------------------------------------------------------\n"
     ]
    }
   ],
   "source": [
    "for h in hash_tags:\n",
    "    print('---'*20)\n",
    "    printStatistics(h)\n",
    "    print('---'*20)"
   ]
  },
  {
   "cell_type": "code",
   "execution_count": null,
   "metadata": {},
   "outputs": [],
   "source": []
  }
 ],
 "metadata": {
  "kernelspec": {
   "display_name": "Python 3",
   "language": "python",
   "name": "python3"
  },
  "language_info": {
   "codemirror_mode": {
    "name": "ipython",
    "version": 3
   },
   "file_extension": ".py",
   "mimetype": "text/x-python",
   "name": "python",
   "nbconvert_exporter": "python",
   "pygments_lexer": "ipython3",
   "version": "3.6.0"
  }
 },
 "nbformat": 4,
 "nbformat_minor": 2
}
