{
 "cells": [
  {
   "cell_type": "markdown",
   "metadata": {},
   "source": [
    "### QUESTION 11: \n",
    "Now try to regress the aggregated data with MLPRegressor. Try different architectures (i.e. the structure of the network) by adjusting hidden_layer_sizes. You should try at least 5 architectures with various numbers of layers and layer sizes. Report the architectures you tried, as well as its MSE of fitting the entire aggregated data."
   ]
  },
  {
   "cell_type": "code",
   "execution_count": 1,
   "metadata": {},
   "outputs": [],
   "source": [
    "hash_tags = ['#gohawks','#gopatriots','#nfl','#patriots','#sb49','#superbowl']"
   ]
  },
  {
   "cell_type": "code",
   "execution_count": 2,
   "metadata": {},
   "outputs": [],
   "source": [
    "import pickle\n",
    "\n",
    "def save_object(data, fileName):\n",
    "    with open('pynb_data/'+fileName + \".pickle\", 'wb') as f:\n",
    "        pickle.dump(data, f, pickle.HIGHEST_PROTOCOL)\n",
    "        \n",
    "def load_object(fileName):\n",
    "    try:\n",
    "        with open('pynb_data/'+fileName + \".pickle\", 'rb') as f:\n",
    "            data = pickle.load(f)\n",
    "            return data\n",
    "    except IOError:\n",
    "        print(\"Could not read file: \" + fileName)"
   ]
  },
  {
   "cell_type": "code",
   "execution_count": 3,
   "metadata": {},
   "outputs": [],
   "source": [
    "import json\n",
    "\n",
    "def getMinAndMaxTs(tag):\n",
    "    filename = 'data/tweets_'+tag+'.txt'\n",
    "    max_ts = 0\n",
    "    min_ts = 1552522378\n",
    "    with open(filename) as f:\n",
    "        for line in f:\n",
    "            json_object = json.loads(line)\n",
    "            timestamp = json_object['citation_date']\n",
    "            if(timestamp < min_ts):                \n",
    "                min_ts = timestamp\n",
    "            \n",
    "            if(timestamp > max_ts):\n",
    "                max_ts = timestamp\n",
    "                \n",
    "    return [min_ts,max_ts]\n",
    "\n",
    "tagsToMinTs = {}\n",
    "tagsToMaxTs = {}\n",
    "for tag in hash_tags:\n",
    "    ts_list = getMinAndMaxTs(tag)\n",
    "    tagsToMinTs[tag] = (ts_list[0])\n",
    "    tagsToMaxTs[tag] = (ts_list[1])    "
   ]
  },
  {
   "cell_type": "code",
   "execution_count": 4,
   "metadata": {},
   "outputs": [],
   "source": [
    "import math\n",
    "import datetime\n",
    "import pytz\n",
    "\n",
    "\n",
    "def getLocalHour(timestamp):\n",
    "    d = datetime.datetime.fromtimestamp(timestamp)\n",
    "    pst = pytz.timezone('America/Los_Angeles')\n",
    "    d = pst.localize(d)\n",
    "    return d.hour\n",
    "\n",
    "def getWindowNumber(start_ts, curr_ts, window):\n",
    "    elapsed = (curr_ts - start_ts)/(window*1.0)\n",
    "    windowNum = math.ceil(elapsed)\n",
    "    return windowNum    \n",
    "\n",
    "def getFeatures(start_ts,end_ts,window):\n",
    "    windowToTweets = {}\n",
    "    windowToRetweets = {}\n",
    "    windowToFollowerCount = {}\n",
    "    windowToMaxFollowers = {}\n",
    "    features = []\n",
    "    labels = []\n",
    "    \n",
    "    for tag in hash_tags:\n",
    "        filename = 'data/tweets_'+tag+'.txt'\n",
    "        with open(filename) as f:\n",
    "            for line in f:\n",
    "                json_object = json.loads(line)\n",
    "                timestamp = json_object['citation_date']\n",
    "            \n",
    "                if timestamp < start_ts or timestamp > end_ts:                            \n",
    "                    continue\n",
    "                \n",
    "                key = getWindowNumber(start_ts,timestamp,window)\n",
    "                if key not in windowToTweets.keys():\n",
    "                    windowToTweets[key]=0\n",
    "                windowToTweets[key]+=1\n",
    "            \n",
    "                retweetCount = json_object['metrics']['citations']['total']        \n",
    "            \n",
    "                if key not in windowToRetweets.keys():\n",
    "                    windowToRetweets[key]=0\n",
    "                windowToRetweets[key]+=retweetCount\n",
    "        \n",
    "                followerCount = json_object['author']['followers']\n",
    "                if key not in windowToFollowerCount.keys():\n",
    "                    windowToFollowerCount[key]=0\n",
    "                windowToFollowerCount[key]+=followerCount\n",
    "        \n",
    "                if key not in windowToMaxFollowers.keys():\n",
    "                    windowToMaxFollowers[key]=0\n",
    "                windowToMaxFollowers[key] = max(windowToMaxFollowers[key],followerCount)            \n",
    "            \n",
    "    for period in range(start_ts,end_ts,window):\n",
    "        key = getWindowNumber(start_ts,period,window)\n",
    "        tweetCount = windowToTweets.get(key, 0)\n",
    "        retweetCount = windowToRetweets.get(key,0)\n",
    "        followerCount = windowToFollowerCount.get(key,0)\n",
    "        maxFollowers = windowToMaxFollowers.get(key,0)\n",
    "\n",
    "        h = getLocalHour(period)\n",
    "            \n",
    "        feature = [tweetCount, retweetCount, followerCount, maxFollowers, h]\n",
    "        features.append(feature)\n",
    "                \n",
    "        nextKey = getWindowNumber(start_ts, period + window, window)\n",
    "        labels.append(windowToTweets.get(nextKey,0))\n",
    "                \n",
    "    return features,labels"
   ]
  },
  {
   "cell_type": "code",
   "execution_count": 5,
   "metadata": {},
   "outputs": [
    {
     "name": "stdout",
     "output_type": "stream",
     "text": [
      "Done building feature vectors\n"
     ]
    }
   ],
   "source": [
    "min_ts = min(list(tagsToMinTs.values()))\n",
    "max_ts = max(list(tagsToMaxTs.values()))\n",
    "tp1_window_size = 3600 \n",
    "tp1_start_ts = tp1_window_size * math.floor(min_ts/(tp1_window_size*1.0))\n",
    "tp1_end_ts = tp1_window_size * math.ceil(max_ts/(tp1_window_size*1.0))\n",
    "features,labels = getFeatures(tp1_start_ts,tp1_end_ts,tp1_window_size)\n",
    "save_object(features,\"q11_features\")\n",
    "save_object(labels,\"q11_labels\")\n",
    "print(\"Done building feature vectors\")"
   ]
  },
  {
   "cell_type": "markdown",
   "metadata": {},
   "source": [
    "### Architecture 1:\n",
    "\n",
    "* No. of hidden layers = 2 \n",
    "* No. of neurons in hidden layer = 50"
   ]
  },
  {
   "cell_type": "code",
   "execution_count": 6,
   "metadata": {},
   "outputs": [
    {
     "name": "stdout",
     "output_type": "stream",
     "text": [
      "For architecture 1 :\n",
      "    MSE train:1025879749.074185\n"
     ]
    },
    {
     "name": "stderr",
     "output_type": "stream",
     "text": [
      "/Users/rishabketandoshi/anaconda2/envs/python3/lib/python3.6/site-packages/sklearn/neural_network/multilayer_perceptron.py:562: ConvergenceWarning: Stochastic Optimizer: Maximum iterations (200) reached and the optimization hasn't converged yet.\n",
      "  % self.max_iter, ConvergenceWarning)\n"
     ]
    }
   ],
   "source": [
    "from sklearn.neural_network import MLPRegressor\n",
    "from sklearn.metrics import mean_squared_error\n",
    "\n",
    "nn = MLPRegressor(hidden_layer_sizes=(50,50 ))\n",
    "nn.fit(features, labels)\n",
    "train_predict = nn.predict(features)\n",
    "print('For architecture 1 :')\n",
    "print('    MSE train:'+ str(mean_squared_error(train_predict,labels)))\n",
    "minmse = mean_squared_error(train_predict,labels)"
   ]
  },
  {
   "cell_type": "markdown",
   "metadata": {},
   "source": [
    "### Architecture 2:\n",
    "\n",
    "* No. of hidden layers = 4\n",
    "* No. of neurons in hidden layer = 100, 100, 50, 50"
   ]
  },
  {
   "cell_type": "code",
   "execution_count": 7,
   "metadata": {},
   "outputs": [
    {
     "name": "stdout",
     "output_type": "stream",
     "text": [
      "For architecture 2:\n",
      "    MSE train:1262779447.9312394\n"
     ]
    }
   ],
   "source": [
    "import numpy as np\n",
    "from sklearn.neural_network import MLPRegressor\n",
    "from sklearn.metrics import mean_squared_error\n",
    "\n",
    "nn = MLPRegressor(hidden_layer_sizes=(100,100,50,50 ))\n",
    "nn.fit(features, labels)\n",
    "train_predict = nn.predict(features)\n",
    "print('For architecture 2:')\n",
    "print('    MSE train:'+ str(mean_squared_error(train_predict,labels)))\n",
    "minmse = min(minmse,mean_squared_error(train_predict,labels))"
   ]
  },
  {
   "cell_type": "markdown",
   "metadata": {},
   "source": [
    "### Architecture 3:\n",
    "\n",
    "* No. of hidden layers = 6\n",
    "* No. of neurons in hidden layer = 200, 200, 100, 100, 50, 50"
   ]
  },
  {
   "cell_type": "code",
   "execution_count": 8,
   "metadata": {},
   "outputs": [
    {
     "name": "stdout",
     "output_type": "stream",
     "text": [
      "For architecture 3:\n",
      "    MSE train:1403523405791.3384\n"
     ]
    }
   ],
   "source": [
    "import numpy as np\n",
    "from sklearn.neural_network import MLPRegressor\n",
    "from sklearn.metrics import mean_squared_error\n",
    "\n",
    "nn = MLPRegressor(hidden_layer_sizes=(200, 200, 100, 100, 50, 50 ))\n",
    "nn.fit(features, labels)\n",
    "train_predict = nn.predict(features)\n",
    "print('For architecture 3:')\n",
    "print('    MSE train:'+ str(mean_squared_error(train_predict,labels)))\n",
    "minmse = min(minmse,mean_squared_error(train_predict,labels))"
   ]
  },
  {
   "cell_type": "markdown",
   "metadata": {},
   "source": [
    "### Architecture 4:\n",
    "\n",
    "* No. of hidden layers = 8\n",
    "* No. of neurons in hidden layer = 800,700,600,500,400,300,200,100"
   ]
  },
  {
   "cell_type": "code",
   "execution_count": 9,
   "metadata": {},
   "outputs": [
    {
     "name": "stdout",
     "output_type": "stream",
     "text": [
      "For architecture 4:\n",
      "    MSE train:397760478.2553001\n"
     ]
    }
   ],
   "source": [
    "import numpy as np\n",
    "from sklearn.neural_network import MLPRegressor\n",
    "from sklearn.metrics import mean_squared_error\n",
    "\n",
    "nn = MLPRegressor(hidden_layer_sizes=(800,700,600,500,400,300,200,100 ))\n",
    "nn.fit(features, labels)\n",
    "train_predict = nn.predict(features)\n",
    "print('For architecture 4:')\n",
    "print('    MSE train:'+ str(mean_squared_error(train_predict,labels)))\n",
    "minmse = min(minmse,mean_squared_error(train_predict,labels))"
   ]
  },
  {
   "cell_type": "markdown",
   "metadata": {},
   "source": [
    "### Architecture 5:\n",
    "\n",
    "* No. of hidden layers = 10\n",
    "* No. of neurons in hidden layer = 1000,500,250,125,63,30,15,8,4,2"
   ]
  },
  {
   "cell_type": "code",
   "execution_count": 10,
   "metadata": {},
   "outputs": [
    {
     "name": "stdout",
     "output_type": "stream",
     "text": [
      "For architecture 5:\n",
      "    MSE train:817676426.0232316\n"
     ]
    },
    {
     "name": "stderr",
     "output_type": "stream",
     "text": [
      "/Users/rishabketandoshi/anaconda2/envs/python3/lib/python3.6/site-packages/sklearn/neural_network/multilayer_perceptron.py:562: ConvergenceWarning: Stochastic Optimizer: Maximum iterations (200) reached and the optimization hasn't converged yet.\n",
      "  % self.max_iter, ConvergenceWarning)\n"
     ]
    }
   ],
   "source": [
    "import numpy as np\n",
    "from sklearn.neural_network import MLPRegressor\n",
    "from sklearn.metrics import mean_squared_error\n",
    "\n",
    "nn = MLPRegressor(hidden_layer_sizes=(1000,500,250,125,63,30,15,8,4,2 ))\n",
    "nn.fit(features, labels)\n",
    "train_predict = nn.predict(features)\n",
    "print('For architecture 5:')\n",
    "print('    MSE train:'+ str(mean_squared_error(train_predict,labels)))\n",
    "minmse = min(minmse,mean_squared_error(train_predict,labels))"
   ]
  },
  {
   "cell_type": "markdown",
   "metadata": {},
   "source": [
    "### Architecture 6:\n",
    "\n",
    "* No. of hidden layers = 3\n",
    "* No. of neurons in hidden layer = 50,50,50"
   ]
  },
  {
   "cell_type": "code",
   "execution_count": 11,
   "metadata": {},
   "outputs": [
    {
     "name": "stdout",
     "output_type": "stream",
     "text": [
      "For architecture 6:\n",
      "    MSE train:11238562630.030281\n"
     ]
    }
   ],
   "source": [
    "import numpy as np\n",
    "from sklearn.neural_network import MLPRegressor\n",
    "from sklearn.metrics import mean_squared_error\n",
    "\n",
    "nn = MLPRegressor(hidden_layer_sizes=(50, 50, 50 ))\n",
    "nn.fit(features, labels)\n",
    "train_predict = nn.predict(features)\n",
    "print('For architecture 6:')\n",
    "print('    MSE train:'+ str(mean_squared_error(train_predict,labels)))\n",
    "minmse = min(minmse,mean_squared_error(train_predict,labels))"
   ]
  },
  {
   "cell_type": "markdown",
   "metadata": {},
   "source": [
    "### Architecture 7:\n",
    "\n",
    "* No. of hidden layers = 3\n",
    "* No. of neurons in hidden layer = 100,100,100"
   ]
  },
  {
   "cell_type": "code",
   "execution_count": 12,
   "metadata": {},
   "outputs": [
    {
     "name": "stdout",
     "output_type": "stream",
     "text": [
      "For architecture 7:\n",
      "    MSE train:3715327038083.21\n"
     ]
    }
   ],
   "source": [
    "import numpy as np\n",
    "from sklearn.neural_network import MLPRegressor\n",
    "from sklearn.metrics import mean_squared_error\n",
    "\n",
    "\n",
    "nn = MLPRegressor(hidden_layer_sizes=(100, 100, 100 ))\n",
    "nn.fit(features, labels)\n",
    "train_predict = nn.predict(features)\n",
    "print('For architecture 7:')\n",
    "print('    MSE train:'+ str(mean_squared_error(train_predict,labels)))\n",
    "minmse = min(minmse,mean_squared_error(train_predict,labels))"
   ]
  },
  {
   "cell_type": "markdown",
   "metadata": {},
   "source": [
    "### Architecture 8:\n",
    "\n",
    "* No. of hidden layers = 3\n",
    "* No. of neurons in hidden layer = 1000,100,10"
   ]
  },
  {
   "cell_type": "code",
   "execution_count": 13,
   "metadata": {},
   "outputs": [
    {
     "name": "stdout",
     "output_type": "stream",
     "text": [
      "For architecture 8:\n",
      "    MSE train:817689466.367445\n"
     ]
    }
   ],
   "source": [
    "import numpy as np\n",
    "from sklearn.neural_network import MLPRegressor\n",
    "from sklearn.metrics import mean_squared_error\n",
    "\n",
    "nn = MLPRegressor(hidden_layer_sizes=(1000, 100, 10 ))\n",
    "nn.fit(features, labels)\n",
    "train_predict = nn.predict(features)\n",
    "print('For architecture 8:')\n",
    "print('    MSE train:'+ str(mean_squared_error(train_predict,labels)))\n",
    "\n",
    "minmse = min(minmse,mean_squared_error(train_predict,labels))"
   ]
  },
  {
   "cell_type": "code",
   "execution_count": 14,
   "metadata": {},
   "outputs": [
    {
     "name": "stdout",
     "output_type": "stream",
     "text": [
      "397760478.2553001\n"
     ]
    }
   ],
   "source": [
    "print(minmse)"
   ]
  },
  {
   "cell_type": "code",
   "execution_count": 15,
   "metadata": {},
   "outputs": [
    {
     "name": "stdout",
     "output_type": "stream",
     "text": [
      "Best score found for architecture 4\n",
      "* No. of hidden layers = 8 \n",
      "* No. of neurons in hidden layer = 800,700,600,500,400,300,200,100\n"
     ]
    }
   ],
   "source": [
    "print(\"Best score found for architecture 4\")\n",
    "print(\"* No. of hidden layers = 8 \\n* No. of neurons in hidden layer = 800,700,600,500,400,300,200,100\")"
   ]
  },
  {
   "cell_type": "markdown",
   "metadata": {},
   "source": [
    "### QUESTION 12: \n",
    "\n",
    "Use StandardScaler to scale the data before feeding it to MLPRegressor (with the best architecture you got above). Does its performance increase?"
   ]
  },
  {
   "cell_type": "code",
   "execution_count": 16,
   "metadata": {},
   "outputs": [
    {
     "name": "stdout",
     "output_type": "stream",
     "text": [
      "After scaling, architecture 4\n",
      "    MSE train:20006205.59679127\n"
     ]
    }
   ],
   "source": [
    "from sklearn.preprocessing import StandardScaler\n",
    "\n",
    "scaler = StandardScaler()\n",
    "scaled_features = scaler.fit_transform(features)\n",
    "\n",
    "nn = MLPRegressor(hidden_layer_sizes=(800,700,600,500,400,300,200,100 ))\n",
    "nn.fit(scaled_features, labels)\n",
    "train_predict = nn.predict(scaled_features)\n",
    "print(\"After scaling, architecture 4\")\n",
    "print('    MSE train:'+ str(mean_squared_error(train_predict,labels)))\n",
    "minmse = min(minmse,mean_squared_error(train_predict,labels))"
   ]
  },
  {
   "cell_type": "code",
   "execution_count": 17,
   "metadata": {},
   "outputs": [
    {
     "name": "stdout",
     "output_type": "stream",
     "text": [
      "20006205.59679127\n"
     ]
    }
   ],
   "source": [
    "print(minmse)"
   ]
  },
  {
   "cell_type": "code",
   "execution_count": 19,
   "metadata": {},
   "outputs": [
    {
     "name": "stdout",
     "output_type": "stream",
     "text": [
      "Magnitude of improvement is 377754272.65850884\n"
     ]
    }
   ],
   "source": [
    "print(\"Magnitude of improvement is \"+ str(397760478.2553001 - 20006205.59679127))"
   ]
  },
  {
   "cell_type": "code",
   "execution_count": null,
   "metadata": {},
   "outputs": [],
   "source": []
  }
 ],
 "metadata": {
  "kernelspec": {
   "display_name": "Python 3",
   "language": "python",
   "name": "python3"
  },
  "language_info": {
   "codemirror_mode": {
    "name": "ipython",
    "version": 3
   },
   "file_extension": ".py",
   "mimetype": "text/x-python",
   "name": "python",
   "nbconvert_exporter": "python",
   "pygments_lexer": "ipython3",
   "version": "3.6.0"
  }
 },
 "nbformat": 4,
 "nbformat_minor": 2
}
