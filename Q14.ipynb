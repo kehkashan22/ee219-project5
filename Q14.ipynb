{
 "cells": [
  {
   "cell_type": "markdown",
   "metadata": {},
   "source": [
    "### QUESTION 14: \n",
    "Report the model you use. For each test file, provide your predictions on the number of tweets in the next time window.\n",
    "Note: Test data should not be used as a source for training. You are not bounded to only linear models. You can find your best model through cross validation of your training data."
   ]
  },
  {
   "cell_type": "code",
   "execution_count": 1,
   "metadata": {},
   "outputs": [],
   "source": [
    "tp1_files = ['sample0_period1.txt','sample1_period1.txt','sample2_period1.txt']\n",
    "tp2_files = ['sample0_period2.txt','sample1_period2.txt','sample2_period2.txt']\n",
    "tp3_files = ['sample0_period3.txt','sample1_period3.txt','sample2_period3.txt']"
   ]
  },
  {
   "cell_type": "code",
   "execution_count": 2,
   "metadata": {},
   "outputs": [],
   "source": [
    "import pickle\n",
    "\n",
    "def save_object(data, fileName):\n",
    "    with open('pynb_data/'+fileName + \".pickle\", 'wb') as f:\n",
    "        pickle.dump(data, f, pickle.HIGHEST_PROTOCOL)\n",
    "        \n",
    "def load_object(fileName):\n",
    "    try:\n",
    "        with open('pynb_data/'+fileName + \".pickle\", 'rb') as f:\n",
    "            data = pickle.load(f)\n",
    "            return data\n",
    "    except IOError:\n",
    "        print(\"Could not read file: \" + fileName)"
   ]
  },
  {
   "cell_type": "code",
   "execution_count": 3,
   "metadata": {},
   "outputs": [],
   "source": [
    "hash_tags = ['#gohawks','#gopatriots','#nfl','#patriots','#sb49','#superbowl']"
   ]
  },
  {
   "cell_type": "code",
   "execution_count": 4,
   "metadata": {},
   "outputs": [],
   "source": [
    "import json\n",
    "\n",
    "def getMinAndMaxTs(tag,filename=None):\n",
    "    if filename is None:\n",
    "        filename = 'data/tweets_'+tag+'.txt'\n",
    "    max_ts = 0\n",
    "    min_ts = 1552522378\n",
    "    with open(filename) as f:\n",
    "        for line in f:\n",
    "            json_object = json.loads(line)\n",
    "            timestamp = json_object['citation_date']\n",
    "            if(timestamp < min_ts):                \n",
    "                min_ts = timestamp\n",
    "            \n",
    "            if(timestamp > max_ts):\n",
    "                max_ts = timestamp\n",
    "                \n",
    "    return [min_ts,max_ts]\n",
    "\n",
    "tagsToMinTs = {}\n",
    "tagsToMaxTs = {}\n",
    "globalMinTs = 1552522378\n",
    "globalMaxTs = 0\n",
    "for tag in hash_tags:\n",
    "    ts_list = getMinAndMaxTs(tag)\n",
    "    \n",
    "    if(ts_list[0]<globalMinTs):\n",
    "        globalMinTs = ts_list[0]\n",
    "    \n",
    "    if(ts_list[1]>globalMaxTs):\n",
    "        globalMaxTs = ts_list[1]\n",
    "        \n",
    "    tagsToMinTs[tag] = (ts_list[0])\n",
    "    tagsToMaxTs[tag] = (ts_list[1])\n"
   ]
  },
  {
   "cell_type": "code",
   "execution_count": 5,
   "metadata": {},
   "outputs": [],
   "source": [
    "\n",
    "filesToMinTs = {}\n",
    "filesToMaxTs = {}\n",
    "\n",
    "for file in tp1_files:\n",
    "    ts_list = getMinAndMaxTs(None,'test_data/'+file)\n",
    "    filesToMinTs[file] = (ts_list[0])\n",
    "    filesToMaxTs[file] = (ts_list[1])    \n",
    "    \n",
    "for file in tp2_files:\n",
    "    ts_list = getMinAndMaxTs(None,'test_data/'+file)\n",
    "    filesToMinTs[file] = (ts_list[0])\n",
    "    filesToMaxTs[file] = (ts_list[1])    \n",
    "    \n",
    "for file in tp3_files:\n",
    "    ts_list = getMinAndMaxTs(None,'test_data/'+file)\n",
    "    filesToMinTs[file] = (ts_list[0])\n",
    "    filesToMaxTs[file] = (ts_list[1])    \n"
   ]
  },
  {
   "cell_type": "code",
   "execution_count": 6,
   "metadata": {},
   "outputs": [],
   "source": [
    "import math\n",
    "import datetime\n",
    "import pytz\n",
    "\n",
    "\n",
    "def getLocalHour(timestamp):\n",
    "    d = datetime.datetime.fromtimestamp(timestamp)\n",
    "    pst = pytz.timezone('America/Los_Angeles')\n",
    "    d = pst.localize(d)\n",
    "    return d.hour\n",
    "\n",
    "def getWindowNumber(start_ts, curr_ts, window):\n",
    "    elapsed = (curr_ts - start_ts)/(window*1.0)\n",
    "    windowNum = math.ceil(elapsed)\n",
    "    return windowNum    \n",
    "\n",
    "def getFeatures(start_ts,end_ts,window):\n",
    "    windowToTweets = {}\n",
    "    windowToRetweets = {}\n",
    "    windowToFollowerCount = {}\n",
    "    windowToMaxFollowers = {}\n",
    "    features = []\n",
    "    labels = []\n",
    "    \n",
    "    for tag in hash_tags:\n",
    "        filename = 'data/tweets_'+tag+'.txt'\n",
    "        with open(filename) as f:\n",
    "            for line in f:\n",
    "                json_object = json.loads(line)\n",
    "                timestamp = json_object['citation_date']\n",
    "            \n",
    "                if timestamp < start_ts or timestamp > end_ts:                            \n",
    "                    continue\n",
    "                \n",
    "                key = getWindowNumber(start_ts,timestamp,window)\n",
    "    #             print(key)\n",
    "                if key not in windowToTweets.keys():\n",
    "                    windowToTweets[key]=0\n",
    "                windowToTweets[key]+=1\n",
    "            \n",
    "                retweetCount = json_object['metrics']['citations']['total']        \n",
    "            \n",
    "                if key not in windowToRetweets.keys():\n",
    "                    windowToRetweets[key]=0\n",
    "                windowToRetweets[key]+=retweetCount\n",
    "        \n",
    "                followerCount = json_object['author']['followers']\n",
    "                if key not in windowToFollowerCount.keys():\n",
    "                    windowToFollowerCount[key]=0\n",
    "                windowToFollowerCount[key]+=followerCount\n",
    "        \n",
    "                if key not in windowToMaxFollowers.keys():\n",
    "                    windowToMaxFollowers[key]=0\n",
    "                windowToMaxFollowers[key] = max(windowToMaxFollowers[key],followerCount)            \n",
    "            \n",
    "    for period in range(start_ts,end_ts,window):\n",
    "        key = getWindowNumber(start_ts,period,window)\n",
    "        tweetCount = windowToTweets.get(key, 0)\n",
    "        retweetCount = windowToRetweets.get(key,0)\n",
    "        followerCount = windowToFollowerCount.get(key,0)\n",
    "        maxFollowers = windowToMaxFollowers.get(key,0)\n",
    "\n",
    "        h = getLocalHour(period)\n",
    "            \n",
    "        feature = [tweetCount, retweetCount, followerCount, maxFollowers, h]\n",
    "        features.append(feature)\n",
    "                \n",
    "        nextKey = getWindowNumber(start_ts, period + window, window)\n",
    "        labels.append(windowToTweets.get(nextKey,0))\n",
    "                \n",
    "    return features,labels"
   ]
  },
  {
   "cell_type": "markdown",
   "metadata": {},
   "source": [
    "## Timeperiod 1"
   ]
  },
  {
   "cell_type": "markdown",
   "metadata": {},
   "source": [
    "### Building training set for Timeperiod 1(same as q7)"
   ]
  },
  {
   "cell_type": "code",
   "execution_count": 7,
   "metadata": {},
   "outputs": [
    {
     "name": "stdout",
     "output_type": "stream",
     "text": [
      "Finished Building feature vectors for training set for time period 1\n"
     ]
    }
   ],
   "source": [
    "import statsmodels.api as sm\n",
    "\n",
    "#tp1\n",
    "tp1_window_size = 3600 # 1 hour window size\n",
    "tp1_start_ts = tp1_window_size * math.floor(globalMinTs/(tp1_window_size*1.0))\n",
    "tp1_end_ts = 1422806400\n",
    "# tp1_train_features,tp1_train_labels = getFeatures(tp1_start_ts,tp1_end_ts,tp1_window_size)\n",
    "# save_object(tp1_train_features, \"q14_tp1_train_features\")\n",
    "# save_object(tp1_train_labels, \"q14_tp1_train_labels\")\n",
    "tp1_train_features = load_object(\"q14_tp1_train_features\")\n",
    "tp1_train_labels = load_object(\"q14_tp1_train_labels\")\n",
    "print(\"Finished Building feature vectors for training set for time period 1\")"
   ]
  },
  {
   "cell_type": "markdown",
   "metadata": {},
   "source": [
    "### Building test set for Timeperiod 1(sample 0)"
   ]
  },
  {
   "cell_type": "code",
   "execution_count": 8,
   "metadata": {},
   "outputs": [
    {
     "name": "stdout",
     "output_type": "stream",
     "text": [
      "Finished Building test feature vectors for time period 1 sample 0\n"
     ]
    }
   ],
   "source": [
    "import statsmodels.api as sm\n",
    "\n",
    "file = 'sample0_period1.txt'\n",
    "\n",
    "#tp1\n",
    "tp1_window_size = 3600 # 1 hour window size\n",
    "tp1_start_ts = tp1_window_size * math.floor(filesToMinTs[file]/(tp1_window_size*1.0))\n",
    "tp1_end_ts = 1422806400\n",
    "# tp1_test_p1_s0_features,tp1_test_p1_s0_labels = getFeatures(tp1_start_ts,tp1_end_ts,tp1_window_size)\n",
    "# save_object(tp1_test_p1_s0_features, \"q14_tp1_test_p1_s0_features\")\n",
    "# save_object(tp1_test_p1_s0_labels, \"q14_tp1_test_p1_s0_labels\")\n",
    "tp1_test_p1_s0_features = load_object(\"q14_tp1_test_p1_s0_features\")\n",
    "tp1_test_p1_s0_labels = load_object(\"q14_tp1_test_p1_s0_labels\")\n",
    "print(\"Finished Building test feature vectors for time period 1 sample 0\")"
   ]
  },
  {
   "cell_type": "markdown",
   "metadata": {},
   "source": [
    "### Building test set for Timeperiod 1(sample 1)"
   ]
  },
  {
   "cell_type": "code",
   "execution_count": 9,
   "metadata": {},
   "outputs": [
    {
     "name": "stdout",
     "output_type": "stream",
     "text": [
      "Finished Building test feature vectors for time period 1 sample 1\n"
     ]
    }
   ],
   "source": [
    "import statsmodels.api as sm\n",
    "\n",
    "file = 'sample1_period1.txt'\n",
    "\n",
    "#tp1\n",
    "tp1_window_size = 3600 # 1 hour window size\n",
    "tp1_start_ts = tp1_window_size * math.floor(filesToMinTs[file]/(tp1_window_size*1.0))\n",
    "tp1_end_ts = 1422806400\n",
    "# tp1_test_p1_s1_features,tp1_test_p1_s1_labels = getFeatures(tp1_start_ts,tp1_end_ts,tp1_window_size)\n",
    "# save_object(tp1_test_p1_s1_features, \"q14_tp1_test_p1_s1_features\")\n",
    "# save_object(tp1_test_p1_s1_labels, \"q14_tp1_test_p1_s1_labels\")\n",
    "tp1_test_p1_s1_features = load_object(\"q14_tp1_test_p1_s1_features\")\n",
    "tp1_test_p1_s1_labels = load_object(\"q14_tp1_test_p1_s1_labels\")\n",
    "print(\"Finished Building test feature vectors for time period 1 sample 1\")"
   ]
  },
  {
   "cell_type": "markdown",
   "metadata": {},
   "source": [
    "### Building test set for Timeperiod 1(sample 2)"
   ]
  },
  {
   "cell_type": "code",
   "execution_count": 10,
   "metadata": {},
   "outputs": [
    {
     "name": "stdout",
     "output_type": "stream",
     "text": [
      "Finished Building test feature vectors for time period 1 sample 2\n"
     ]
    }
   ],
   "source": [
    "import statsmodels.api as sm\n",
    "\n",
    "file = 'sample2_period1.txt'\n",
    "\n",
    "#tp1\n",
    "tp1_window_size = 3600 # 1 hour window size\n",
    "tp1_start_ts = tp1_window_size * math.floor(filesToMinTs[file]/(tp1_window_size*1.0))\n",
    "tp1_end_ts = 1422806400\n",
    "# tp1_test_p1_s2_features,tp1_test_p1_s2_labels = getFeatures(tp1_start_ts,tp1_end_ts,tp1_window_size)\n",
    "# save_object(tp1_test_p1_s2_features, \"q14_tp1_test_p1_s2_features\")\n",
    "# save_object(tp1_test_p1_s2_labels, \"q14_tp1_test_p1_s2_labels\")\n",
    "tp1_test_p1_s2_features = load_object(\"q14_tp1_test_p1_s2_features\")\n",
    "tp1_test_p1_s2_labels = load_object(\"q14_tp1_test_p1_s2_labels\")\n",
    "print(\"Finished Building test feature vectors for time period 1 sample 2\")"
   ]
  },
  {
   "cell_type": "markdown",
   "metadata": {},
   "source": [
    "#### Training Linear Regression Model"
   ]
  },
  {
   "cell_type": "code",
   "execution_count": 11,
   "metadata": {},
   "outputs": [
    {
     "name": "stdout",
     "output_type": "stream",
     "text": [
      "\n",
      "Linear Regression Model for Time period 1\n"
     ]
    }
   ],
   "source": [
    "import statsmodels.api as sm\n",
    "import statsmodels.tools.eval_measures as ste\n",
    "\n",
    "print('\\nLinear Regression Model for Time period 1')\n",
    "X_orig = tp1_train_features\n",
    "y = tp1_train_labels\n",
    "\n",
    "# https://becominghuman.ai/stats-models-vs-sklearn-for-linear-regression-f19df95ad99b\n",
    "X = sm.add_constant(X_orig)\n",
    "\n",
    "model = sm.OLS(y,X)\n",
    "results = model.fit()"
   ]
  },
  {
   "cell_type": "markdown",
   "metadata": {},
   "source": [
    "#### Testing Linear Regression Model"
   ]
  },
  {
   "cell_type": "code",
   "execution_count": 12,
   "metadata": {},
   "outputs": [
    {
     "name": "stdout",
     "output_type": "stream",
     "text": [
      "\n",
      "Sample 0:\n",
      " MSE : 2410661.7048371565\n",
      "[ 430.58850546  900.99058911 1146.58159312 1249.77711228 1946.72375783\n",
      " 1638.45979224 1951.18951237 1998.29524492 1979.50374369 2568.14402217\n",
      " 2074.86567082 2081.05684259 3728.85610001 4267.01924102 4002.51662366\n",
      " 2407.89135211 3183.67049467 2963.50059119 2548.0745483  2079.8197556\n",
      " 1795.37007641 1818.92894834 2312.00535483 2067.44313895 3025.8626828\n",
      " 4825.05466881 7055.87086711]\n",
      "\n",
      "Sample 1:\n",
      " MSE : 7843671.629176044\n",
      "[ 430.58850546 1818.92894834 2312.00535483 2067.44313895 3025.8626828\n",
      " 4825.05466881 7055.87086711]\n",
      "\n",
      "Sample 2:\n",
      " MSE : 944410.0671393679\n",
      "[ 431.76418551 3303.93979602 1475.87917732 1395.84119575 1288.22100284\n",
      " 1020.84572585  861.72120263  764.96207345  572.59082317  617.61611741\n",
      "  600.27548467  695.314635    792.88435659  696.29768776 1014.80250125\n",
      " 1298.12736775 1527.98535483 1957.83568752 1940.82796962 2347.33832833\n",
      " 1931.34126823 1617.48031802 1634.11244264 2240.11549617 1213.85722866\n",
      " 1406.67471408 1431.34180469 1192.44759854 1197.10408343 1013.38233404\n",
      "  867.72100529  741.52062018  635.97510529  584.53759482  593.80919242\n",
      "  645.33240752  784.5398175   705.31536294  818.86570765 1456.68768008\n",
      " 1565.57004302 1816.56617503 1759.52420714 1587.26230215 1703.51396301\n",
      " 1457.89335038 1648.09396355 2079.89558104 1382.94352314 1542.3563377\n",
      " 1280.94116473 1158.86566487  633.73705338  444.70931791  461.21073672\n",
      "  392.10706864  887.22379668  901.94951999  938.13627086 1017.2107279\n",
      " 1173.10995994 1598.86767332 1808.57686434 2383.98428344 3031.02645425\n",
      " 3140.60402959 3425.63765557 2682.40072457 2839.66338491 3145.43977151\n",
      " 3396.94550591 2485.04393828 3135.12488785 2988.63871852 1900.18678562\n",
      " 2319.57706437 1298.78818459  897.33533414 1358.43435526 1098.40475087\n",
      " 1096.43907472  980.36554655  929.1264773  1583.38693207 1462.42337848\n",
      "  703.5873028  1582.82119481 4578.20498414 4971.3721968  3727.6476112\n",
      " 4622.49449344 5788.573723   5908.76671168 5020.57112167 4608.4844693\n",
      " 2842.20334987 1927.01781749 1179.3586287  1445.39706112  910.24991939\n",
      "  825.22856126  936.5639147   584.05015733  505.8567345   615.72977322\n",
      "  634.80544632  619.35492019  550.74539463  823.85769061  900.99058911\n",
      " 1146.58159312 1249.77711228 1946.72375783 1638.45979224 1951.18951237\n",
      " 1998.29524492 1979.50374369 2568.14402217 2074.86567082 2081.05684259\n",
      " 3728.85610001 4267.01924102 4002.51662366 2407.89135211 3183.67049467\n",
      " 2963.50059119 2548.0745483  2079.8197556  1795.37007641 1818.92894834\n",
      " 2312.00535483 2067.44313895 3025.8626828  4825.05466881 7055.87086711]\n",
      "------------------------------------------------------------\n",
      "\n",
      "\n",
      "\n"
     ]
    }
   ],
   "source": [
    "##sample 0\n",
    "pred_y = results.predict(tp1_test_p1_s0_features)\n",
    "y = tp1_test_p1_s0_labels\n",
    "print(\"\\nSample 0:\\n MSE : {}\".format(ste.mse(pred_y, y,axis=0)))\n",
    "print(pred_y)\n",
    "\n",
    "##sample 1\n",
    "pred_y = results.predict(tp1_test_p1_s1_features)\n",
    "y = tp1_test_p1_s1_labels\n",
    "print(\"\\nSample 1:\\n MSE : {}\".format(ste.mse(pred_y, y,axis=0)))\n",
    "print(pred_y)\n",
    "\n",
    "##sample 2\n",
    "pred_y = results.predict(tp1_test_p1_s2_features)\n",
    "y = tp1_test_p1_s2_labels\n",
    "print(\"\\nSample 2:\\n MSE : {}\".format(ste.mse(pred_y, y,axis=0)))\n",
    "print(pred_y)\n",
    "print('---'*20)\n",
    "print('\\n\\n')"
   ]
  },
  {
   "cell_type": "markdown",
   "metadata": {},
   "source": [
    "#### Training Random forest"
   ]
  },
  {
   "cell_type": "code",
   "execution_count": 13,
   "metadata": {},
   "outputs": [
    {
     "name": "stdout",
     "output_type": "stream",
     "text": [
      "\n",
      "Random forest Model for Time period 1\n"
     ]
    }
   ],
   "source": [
    "from sklearn.ensemble import GradientBoostingRegressor\n",
    "\n",
    "# {'max_depth': 60, 'max_features': 'auto', 'min_samples_leaf': 1, 'min_samples_split': 10, 'n_estimators': 200}\n",
    "\n",
    "\n",
    "print('\\nRandom forest Model for Time period 1')\n",
    "X = tp1_train_features\n",
    "y = tp1_train_labels\n",
    "model = GradientBoostingRegressor(max_depth=60,max_features='auto',min_samples_leaf=1,min_samples_split=10,n_estimators=200)\n",
    "results = model.fit(X,y)"
   ]
  },
  {
   "cell_type": "markdown",
   "metadata": {},
   "source": [
    "#### Testing Random Forest"
   ]
  },
  {
   "cell_type": "code",
   "execution_count": 14,
   "metadata": {},
   "outputs": [
    {
     "name": "stdout",
     "output_type": "stream",
     "text": [
      "\n",
      "Sample 0:\n",
      " MSE : 6348.203948116693\n",
      "[  110.99336068   708.01421034   915.99867541  1111.01084224\n",
      "  1262.01253369  1328.00938891  1184.9836888   1620.00586256\n",
      "  1432.01483713  1573.0212808   1469.99893579  3975.98645912\n",
      "  4931.96767842  4863.99266945  2368.00940688  3730.00278486\n",
      "  3317.98337974  3031.01676957  2143.00343633  2012.0113689\n",
      "  2173.00032284  2266.99211755  2504.99133584  3267.01206458\n",
      "  5792.92731914  9021.99786868 12047.99664101]\n",
      "\n",
      "Sample 1:\n",
      " MSE : 607410.1980253566\n",
      "[  110.99336068  2266.99211755  2504.99133584  3267.01206458\n",
      "  5792.92731914  9021.99786868 12047.99664101]\n",
      "\n",
      "Sample 2:\n",
      " MSE : 128005.21643993311\n",
      "[  110.99336068  1784.02665884  1441.99306424  1420.00850994\n",
      "   952.00060794   693.01227673   536.00795201   288.0134846\n",
      "   301.98966018   314.99253715   418.99331616   559.99421605\n",
      "   703.99499371   908.99276281  1245.98589484  1411.99461125\n",
      "  2327.99066631  2168.00571583  2895.99799457  2196.99148076\n",
      "  1689.00529309  1706.9993143   1584.01512781  1216.01483414\n",
      "  1241.98817375  1459.99574834  1127.00798773  1244.00211591\n",
      "   931.00273166   667.99088808   513.01137372   351.00239418\n",
      "   256.00108449   264.99554843   389.00735944   541.99990816\n",
      "   422.00563462   582.0035951   1215.98160179  1609.99869821\n",
      "  1877.99387475  1830.99851034  1716.0035833   1599.98820229\n",
      "  1527.99884254  1700.00255472  1783.99211284  1566.00429081\n",
      "  1464.00738408  1206.99609874  1112.01018252   297.00712881\n",
      "    48.01389342    29.0070853     37.0024419    721.99461874\n",
      "   684.01017144   744.00729829   838.99509561   939.99480512\n",
      "  1346.99451328  1883.01145371  2609.98656394  3032.99269983\n",
      "  3381.98956227  3377.04104092  2422.99929744  2053.97879211\n",
      "  2280.99400987  2339.9882823   2240.00285171  2977.98489461\n",
      "  2536.02492276  1631.99438326  2495.98787123  1032.00031341\n",
      "   536.01303791  1410.98538478  1024.99462135   981.99982999\n",
      "   788.99559884   792.99915493  1344.99259301  1046.99781711\n",
      "   385.99819901  1032.00147595  3901.99691379  4719.010545\n",
      "  3267.98997448  4883.0054042   6688.99753083  6044.01459282\n",
      "  4686.00662801  4599.97935706  2654.02428959  1399.00429298\n",
      "   400.0177851    910.99486663   506.00147404   553.99538997\n",
      "   531.00019095   394.00207897   293.00501093   239.00305032\n",
      "   293.0070936    248.99977577   281.99317664   376.00469408\n",
      "   524.99098348   708.01421034   915.99867541  1111.01084224\n",
      "  1262.01253369  1328.00938891  1184.9836888   1620.00586256\n",
      "  1432.01483713  1573.0212808   1469.99893579  3975.98645912\n",
      "  4931.96767842  4863.99266945  2368.00940688  3730.00278486\n",
      "  3317.98337974  3031.01676957  2143.00343633  2012.0113689\n",
      "  2173.00032284  2266.99211755  2504.99133584  3267.01206458\n",
      "  5792.92731914  9021.99786868 12047.99664101]\n",
      "------------------------------------------------------------\n",
      "\n",
      "\n",
      "\n"
     ]
    }
   ],
   "source": [
    "##sample 0\n",
    "pred_y = results.predict(tp1_test_p1_s0_features)\n",
    "y = tp1_test_p1_s0_labels\n",
    "print(\"\\nSample 0:\\n MSE : {}\".format(ste.mse(pred_y, y,axis=0)))\n",
    "print(pred_y)\n",
    "\n",
    "##sample 1\n",
    "pred_y = results.predict(tp1_test_p1_s1_features)\n",
    "y = tp1_test_p1_s1_labels\n",
    "print(\"\\nSample 1:\\n MSE : {}\".format(ste.mse(pred_y, y,axis=0)))\n",
    "print(pred_y)\n",
    "\n",
    "##sample 2\n",
    "pred_y = results.predict(tp1_test_p1_s2_features)\n",
    "y = tp1_test_p1_s2_labels\n",
    "print(\"\\nSample 2:\\n MSE : {}\".format(ste.mse(pred_y, y,axis=0)))\n",
    "print(pred_y)\n",
    "print('---'*20)\n",
    "print('\\n\\n')"
   ]
  },
  {
   "cell_type": "markdown",
   "metadata": {},
   "source": [
    "#### Training Neural Network"
   ]
  },
  {
   "cell_type": "code",
   "execution_count": 15,
   "metadata": {},
   "outputs": [],
   "source": [
    "from sklearn.neural_network import MLPRegressor\n",
    "from sklearn.metrics import mean_squared_error\n",
    "from sklearn.preprocessing import StandardScaler\n",
    "\n",
    "X = tp1_train_features\n",
    "y = tp1_train_labels\n",
    "nn = MLPRegressor(hidden_layer_sizes=(200, 200, 200),max_iter=500)\n",
    "results = nn.fit(X,y)"
   ]
  },
  {
   "cell_type": "markdown",
   "metadata": {},
   "source": [
    "#### Testing Neural Network"
   ]
  },
  {
   "cell_type": "code",
   "execution_count": 16,
   "metadata": {},
   "outputs": [
    {
     "name": "stdout",
     "output_type": "stream",
     "text": [
      "\n",
      "Sample 0:\n",
      " MSE : 24880060.546742223\n",
      "[    71.37138047  -2324.5428235    3284.46576366   2516.57819823\n",
      "   4589.01149889   2050.26765551   9186.07551887  11521.71156865\n",
      "   3192.46664662   7659.83277786   6546.5870827    3197.06751246\n",
      "  12790.97941201   3447.47220446   3253.7773082    4328.33232902\n",
      "   4836.14045807   5932.06400685   6013.04613349   5122.68709206\n",
      " -10495.46480678  -5068.87671951   6797.98012373  -5733.71731698\n",
      "   6497.84112338   9203.42156192  11873.14225979]\n",
      "\n",
      "Sample 1:\n",
      " MSE : 22604972.954695467\n",
      "[   71.37138047 -5068.87671951  6797.98012373 -5733.71731698\n",
      "  6497.84112338  9203.42156192 11873.1422598 ]\n",
      "\n",
      "Sample 2:\n",
      " MSE : 18550365.870708916\n",
      "[ 1.26808578e-01  4.42550640e+03  7.61529712e+03  4.23202998e+02\n",
      "  1.71075029e+03  3.21138479e+02  1.17115418e+02  1.69363850e+02\n",
      " -5.94441766e+02  6.51978197e+01 -9.23227514e+02  6.29102932e+01\n",
      "  2.29146856e+02  4.28301192e+03  1.79037882e+02  1.41319069e+03\n",
      "  3.49991634e+03  2.84157569e+03  3.03006794e+03  7.77941436e+02\n",
      "  1.47000783e+03  1.29908139e+03  1.80828906e+03  3.12900490e+03\n",
      " -1.46961629e+03 -5.56042712e+03 -5.32806336e+02  1.08577181e+03\n",
      "  4.91445469e+02 -5.76793838e+02  5.00707204e+02  1.61472842e+03\n",
      "  3.83544006e+01  3.45059840e+01  1.33106692e+02  2.08813606e+03\n",
      " -6.65591611e+02  3.66585775e+02  6.18152786e+02  1.15834139e+03\n",
      "  2.39466040e+03  3.79164842e+03 -1.91175445e+03  1.76021102e+03\n",
      "  3.55431168e+03  2.26812315e+03  7.11957207e+02  7.01372792e+03\n",
      "  7.72126385e+03  3.64941649e+03  7.18440532e+02  4.11038108e+02\n",
      "  3.31058405e+02  1.32792861e+02 -2.87808616e+02  8.16245438e+01\n",
      "  1.11824501e+02  8.19445255e+02 -2.33659907e+02 -2.91492324e+03\n",
      "  2.28165291e+03  2.10837045e+03  3.38452080e+03  5.38081235e+03\n",
      "  3.03226095e+03  5.67268102e+03  1.23053966e+04  1.03519039e+04\n",
      "  1.30566154e+04  7.22748631e+03  1.02348797e+04  9.69644062e+03\n",
      "  9.78997207e+03  6.10780284e+03 -9.91737311e+03 -5.48192219e+03\n",
      " -2.93753876e+03 -1.17544350e+03  1.18087182e+03  4.10349727e+02\n",
      " -8.17425543e+02 -4.02640310e+02  3.46603752e+03  1.02795414e+03\n",
      "  4.67377262e+03  3.80435148e+03  7.06481709e+03  1.53717850e+04\n",
      "  9.15097650e+03  6.67772211e+03  9.15623338e+03  9.76917864e+03\n",
      "  1.51808765e+04  9.99144564e+03  5.26407958e+03  1.01783054e+04\n",
      "  4.00613666e+03 -1.82737564e+03  6.04536507e+03  1.88735698e+03\n",
      "  1.42625215e+04  2.31935449e+03 -3.92716389e+03  6.31004340e+01\n",
      "  9.07856315e+03  4.05924927e+02  7.15741809e+03  3.34395741e+02\n",
      " -3.88030725e+03 -2.32454282e+03  3.28446576e+03  2.51657820e+03\n",
      "  4.58901150e+03  2.05026766e+03  9.18607552e+03  1.15217116e+04\n",
      "  3.19246665e+03  7.65983278e+03  6.54658708e+03  3.19706751e+03\n",
      "  1.27909794e+04  3.44747220e+03  3.25377731e+03  4.32833233e+03\n",
      "  4.83614046e+03  5.93206401e+03  6.01304613e+03  5.12268709e+03\n",
      " -1.04954648e+04 -5.06887672e+03  6.79798012e+03 -5.73371732e+03\n",
      "  6.49784112e+03  9.20342156e+03  1.18731423e+04]\n",
      "------------------------------------------------------------\n",
      "\n",
      "\n",
      "\n"
     ]
    }
   ],
   "source": [
    "##sample 0\n",
    "pred_y = results.predict(tp1_test_p1_s0_features)\n",
    "y = tp1_test_p1_s0_labels\n",
    "print(\"\\nSample 0:\\n MSE : {}\".format(ste.mse(pred_y, y,axis=0)))\n",
    "print(pred_y)\n",
    "\n",
    "##sample 1\n",
    "pred_y = results.predict(tp1_test_p1_s1_features)\n",
    "y = tp1_test_p1_s1_labels\n",
    "print(\"\\nSample 1:\\n MSE : {}\".format(ste.mse(pred_y, y,axis=0)))\n",
    "print(pred_y)\n",
    "\n",
    "##sample 2\n",
    "pred_y = results.predict(tp1_test_p1_s2_features)\n",
    "y = tp1_test_p1_s2_labels\n",
    "print(\"\\nSample 2:\\n MSE : {}\".format(ste.mse(pred_y, y,axis=0)))\n",
    "print(pred_y)\n",
    "print('---'*20)\n",
    "print('\\n\\n')"
   ]
  },
  {
   "cell_type": "markdown",
   "metadata": {},
   "source": [
    "## Timeperiod 2"
   ]
  },
  {
   "cell_type": "markdown",
   "metadata": {},
   "source": [
    "### Building training set for Timeperiod 2(same as q7)"
   ]
  },
  {
   "cell_type": "code",
   "execution_count": 17,
   "metadata": {},
   "outputs": [
    {
     "name": "stdout",
     "output_type": "stream",
     "text": [
      "Finished Building feature vectors for training set for time period 2\n"
     ]
    }
   ],
   "source": [
    "import statsmodels.api as sm\n",
    "\n",
    "#tp2\n",
    "tp2_window_size = 300 # 5 minute window size\n",
    "tp2_start_ts = 1422806400\n",
    "tp2_end_ts = 1422849600\n",
    "tp2_train_features,tp2_train_labels = getFeatures(tp2_start_ts,tp2_end_ts,tp2_window_size)\n",
    "save_object(tp2_train_features, \"q14_tp2_train_features\")\n",
    "save_object(tp2_train_labels, \"q14_tp2_train_labels\")\n",
    "print(\"Finished Building feature vectors for training set for time period 2\")"
   ]
  },
  {
   "cell_type": "markdown",
   "metadata": {},
   "source": [
    "### Building test set for Timeperiod 2(sample 0)"
   ]
  },
  {
   "cell_type": "code",
   "execution_count": 18,
   "metadata": {},
   "outputs": [
    {
     "name": "stdout",
     "output_type": "stream",
     "text": [
      "Finished Building test feature vectors for time period 2 sample 0\n"
     ]
    }
   ],
   "source": [
    "import statsmodels.api as sm\n",
    "\n",
    "file = 'sample0_period2.txt'\n",
    "\n",
    "#tp1\n",
    "tp2_window_size = 300 # 5 minute window size\n",
    "tp2_start_ts = 1422806400\n",
    "tp2_end_ts = 1422849600\n",
    "tp2_test_p2_s0_features,tp2_test_p2_s0_labels = getFeatures(tp2_start_ts,tp2_end_ts,tp2_window_size)\n",
    "save_object(tp2_test_p2_s0_features, \"q14_tp2_test_p2_s0_features\")\n",
    "save_object(tp2_test_p2_s0_labels, \"q14_tp2_test_p2_s0_labels\")\n",
    "print(\"Finished Building test feature vectors for time period 2 sample 0\")"
   ]
  },
  {
   "cell_type": "markdown",
   "metadata": {},
   "source": [
    "### Building test set for Timeperiod 2(sample 1)"
   ]
  },
  {
   "cell_type": "code",
   "execution_count": 19,
   "metadata": {},
   "outputs": [
    {
     "name": "stdout",
     "output_type": "stream",
     "text": [
      "Finished Building test feature vectors for time period 2 sample 1\n"
     ]
    }
   ],
   "source": [
    "import statsmodels.api as sm\n",
    "\n",
    "file = 'sample1_period2.txt'\n",
    "\n",
    "tp2_window_size = 300 # 5 minute window size\n",
    "tp2_start_ts = 1422806400\n",
    "tp2_end_ts = 1422849600\n",
    "tp2_test_p2_s1_features,tp2_test_p2_s1_labels = getFeatures(tp2_start_ts,tp2_end_ts,tp2_window_size)\n",
    "save_object(tp2_test_p2_s1_features, \"q14_tp2_test_p2_s1_features\")\n",
    "save_object(tp2_test_p2_s1_labels, \"q14_tp2_test_p2_s1_labels\")\n",
    "print(\"Finished Building test feature vectors for time period 2 sample 1\")"
   ]
  },
  {
   "cell_type": "markdown",
   "metadata": {},
   "source": [
    "### Building test set for Timeperiod 2(sample 2)"
   ]
  },
  {
   "cell_type": "code",
   "execution_count": 20,
   "metadata": {},
   "outputs": [
    {
     "name": "stdout",
     "output_type": "stream",
     "text": [
      "Finished Building test feature vectors for time period 2 sample 2\n"
     ]
    }
   ],
   "source": [
    "import statsmodels.api as sm\n",
    "\n",
    "file = 'sample2_period2.txt'\n",
    "\n",
    "\n",
    "tp2_window_size = 300 # 5 minute window size\n",
    "tp2_start_ts = 1422806400\n",
    "tp2_end_ts = 1422849600\n",
    "tp2_test_p2_s2_features,tp2_test_p2_s2_labels = getFeatures(tp2_start_ts,tp2_end_ts,tp2_window_size)\n",
    "save_object(tp2_test_p2_s2_features, \"q14_tp2_test_p2_s2_features\")\n",
    "save_object(tp2_test_p2_s2_labels, \"q14_tp2_test_p2_s2_labels\")\n",
    "print(\"Finished Building test feature vectors for time period 2 sample 2\")"
   ]
  },
  {
   "cell_type": "markdown",
   "metadata": {},
   "source": [
    "#### Training Linear Regression Model"
   ]
  },
  {
   "cell_type": "code",
   "execution_count": 21,
   "metadata": {},
   "outputs": [
    {
     "name": "stdout",
     "output_type": "stream",
     "text": [
      "\n",
      "Linear Regression Model for Time period 2\n"
     ]
    }
   ],
   "source": [
    "import statsmodels.api as sm\n",
    "import statsmodels.tools.eval_measures as ste\n",
    "\n",
    "print('\\nLinear Regression Model for Time period 2')\n",
    "X_orig = tp2_train_features\n",
    "y = tp2_train_labels\n",
    "\n",
    "# https://becominghuman.ai/stats-models-vs-sklearn-for-linear-regression-f19df95ad99b\n",
    "X = sm.add_constant(X_orig)\n",
    "\n",
    "model = sm.OLS(y,X)\n",
    "results = model.fit()"
   ]
  },
  {
   "cell_type": "markdown",
   "metadata": {},
   "source": [
    "#### Testing Linear Regression Model"
   ]
  },
  {
   "cell_type": "code",
   "execution_count": 22,
   "metadata": {},
   "outputs": [
    {
     "name": "stdout",
     "output_type": "stream",
     "text": [
      "\n",
      "Sample 0:\n",
      " MSE : 17470732.924933676\n",
      "[  640.70870533  2522.47331865  2064.55554919  1811.75928556\n",
      "  1888.76871169  1819.22140524  1049.76894955  1430.68373013\n",
      "  1427.28387691  1071.47698452  1450.96959242  1450.17584133\n",
      "   899.7833565   1184.83545807   928.6401269   1189.96315097\n",
      "  1146.23167347  2065.40494332  2068.49004696  2484.53219625\n",
      "  2070.28993844  2146.7540324   2158.7838928   2203.36655421\n",
      "  2487.42058577  3234.28871981  2224.47939685  2106.81222021\n",
      "  2649.37578006  2256.87300645  2453.30508351  2830.12627476\n",
      "  2155.40795806  2247.40461376  8884.62370744  9365.54655641\n",
      " 10107.58213277  6274.36210345 10254.46072641 14686.19854017\n",
      " 15342.84513193 15160.44573019 15086.75773787 13824.04880977\n",
      " 13736.42206374 13953.55100892 15695.86074547 14619.37510443\n",
      " 14354.14651277 13414.62104207 13812.85419065 13329.88159274\n",
      " 12313.93636829 12010.46166643 12612.36133162 12089.0392491\n",
      " 11543.94314792 11193.79504809 11352.66947284 10600.23694607\n",
      " 11432.60349998 10460.91613395 11456.31704573 11070.37062629\n",
      " 10205.85108753 10222.13633125 10423.76443956 10265.86537642\n",
      "  9039.17703606  7617.35336451  8177.28068739 14673.22361663\n",
      " 10268.71583755 10047.31667136  9654.22218857  9643.02600932\n",
      "  9362.66835311 10290.32192014  9076.12157371  9822.4468336\n",
      " 10665.42479715 10821.8590841  10990.85197247 11244.06123578\n",
      " 13205.66649728 20290.98320511 19703.43358718 26920.55229609\n",
      " 24486.10879407 33642.10592327 30624.51749819 33533.98554356\n",
      " 23015.78389156 22462.36914178 20803.6953451  26953.97702962\n",
      " 25284.83721588 22578.83685518 23413.01616276 34019.11864596\n",
      " 24757.76121426 22715.96258068 25209.69855965 29468.5370259\n",
      " 27976.54428147 22090.74331966 25965.41222242 22779.19179558\n",
      " 26206.8503775  23946.38878065 23871.57719748 33323.39838316\n",
      " 43348.51472364 42386.53918191 34148.76652095 22657.29491416\n",
      " 23305.93801647 18729.82634927 17570.10870038 24388.14884794\n",
      " 22127.22669428 15536.80890693 13719.22067626 12530.39725997\n",
      " 12776.71206919 14944.46166573 19344.32564852 18230.62338578\n",
      " 13207.00978546 13565.43270061 27569.95908281 16785.34677838\n",
      " 21351.34290104 35106.58995085 39251.11572693 23133.95270064\n",
      " 16733.56909357 13808.61085729 12317.47574294  9631.70927656\n",
      "  8246.6078482   7537.89095885  6902.46189228  4001.62042126]\n",
      "\n",
      "Sample 1:\n",
      " MSE : 17470732.924933676\n",
      "[  640.70870533  2522.47331865  2064.55554919  1811.75928556\n",
      "  1888.76871169  1819.22140524  1049.76894955  1430.68373013\n",
      "  1427.28387691  1071.47698452  1450.96959242  1450.17584133\n",
      "   899.7833565   1184.83545807   928.6401269   1189.96315097\n",
      "  1146.23167347  2065.40494332  2068.49004696  2484.53219625\n",
      "  2070.28993844  2146.7540324   2158.7838928   2203.36655421\n",
      "  2487.42058577  3234.28871981  2224.47939685  2106.81222021\n",
      "  2649.37578006  2256.87300645  2453.30508351  2830.12627476\n",
      "  2155.40795806  2247.40461376  8884.62370744  9365.54655641\n",
      " 10107.58213277  6274.36210345 10254.46072641 14686.19854017\n",
      " 15342.84513193 15160.44573019 15086.75773787 13824.04880977\n",
      " 13736.42206374 13953.55100892 15695.86074547 14619.37510443\n",
      " 14354.14651277 13414.62104207 13812.85419065 13329.88159274\n",
      " 12313.93636829 12010.46166643 12612.36133162 12089.0392491\n",
      " 11543.94314792 11193.79504809 11352.66947284 10600.23694607\n",
      " 11432.60349998 10460.91613395 11456.31704573 11070.37062629\n",
      " 10205.85108753 10222.13633125 10423.76443956 10265.86537642\n",
      "  9039.17703606  7617.35336451  8177.28068739 14673.22361663\n",
      " 10268.71583755 10047.31667136  9654.22218857  9643.02600932\n",
      "  9362.66835311 10290.32192014  9076.12157371  9822.4468336\n",
      " 10665.42479715 10821.8590841  10990.85197247 11244.06123578\n",
      " 13205.66649728 20290.98320511 19703.43358718 26920.55229609\n",
      " 24486.10879407 33642.10592327 30624.51749819 33533.98554356\n",
      " 23015.78389156 22462.36914178 20803.6953451  26953.97702962\n",
      " 25284.83721588 22578.83685518 23413.01616276 34019.11864596\n",
      " 24757.76121426 22715.96258068 25209.69855965 29468.5370259\n",
      " 27976.54428147 22090.74331966 25965.41222242 22779.19179558\n",
      " 26206.8503775  23946.38878065 23871.57719748 33323.39838316\n",
      " 43348.51472364 42386.53918191 34148.76652095 22657.29491416\n",
      " 23305.93801647 18729.82634927 17570.10870038 24388.14884794\n",
      " 22127.22669428 15536.80890693 13719.22067626 12530.39725997\n",
      " 12776.71206919 14944.46166573 19344.32564852 18230.62338578\n",
      " 13207.00978546 13565.43270061 27569.95908281 16785.34677838\n",
      " 21351.34290104 35106.58995085 39251.11572693 23133.95270064\n",
      " 16733.56909357 13808.61085729 12317.47574294  9631.70927656\n",
      "  8246.6078482   7537.89095885  6902.46189228  4001.62042126]\n",
      "\n",
      "Sample 2:\n",
      " MSE : 17470732.924933676\n",
      "[  640.70870533  2522.47331865  2064.55554919  1811.75928556\n",
      "  1888.76871169  1819.22140524  1049.76894955  1430.68373013\n",
      "  1427.28387691  1071.47698452  1450.96959242  1450.17584133\n",
      "   899.7833565   1184.83545807   928.6401269   1189.96315097\n",
      "  1146.23167347  2065.40494332  2068.49004696  2484.53219625\n",
      "  2070.28993844  2146.7540324   2158.7838928   2203.36655421\n",
      "  2487.42058577  3234.28871981  2224.47939685  2106.81222021\n",
      "  2649.37578006  2256.87300645  2453.30508351  2830.12627476\n",
      "  2155.40795806  2247.40461376  8884.62370744  9365.54655641\n",
      " 10107.58213277  6274.36210345 10254.46072641 14686.19854017\n",
      " 15342.84513193 15160.44573019 15086.75773787 13824.04880977\n",
      " 13736.42206374 13953.55100892 15695.86074547 14619.37510443\n",
      " 14354.14651277 13414.62104207 13812.85419065 13329.88159274\n",
      " 12313.93636829 12010.46166643 12612.36133162 12089.0392491\n",
      " 11543.94314792 11193.79504809 11352.66947284 10600.23694607\n",
      " 11432.60349998 10460.91613395 11456.31704573 11070.37062629\n",
      " 10205.85108753 10222.13633125 10423.76443956 10265.86537642\n",
      "  9039.17703606  7617.35336451  8177.28068739 14673.22361663\n",
      " 10268.71583755 10047.31667136  9654.22218857  9643.02600932\n",
      "  9362.66835311 10290.32192014  9076.12157371  9822.4468336\n",
      " 10665.42479715 10821.8590841  10990.85197247 11244.06123578\n",
      " 13205.66649728 20290.98320511 19703.43358718 26920.55229609\n",
      " 24486.10879407 33642.10592327 30624.51749819 33533.98554356\n",
      " 23015.78389156 22462.36914178 20803.6953451  26953.97702962\n",
      " 25284.83721588 22578.83685518 23413.01616276 34019.11864596\n",
      " 24757.76121426 22715.96258068 25209.69855965 29468.5370259\n",
      " 27976.54428147 22090.74331966 25965.41222242 22779.19179558\n",
      " 26206.8503775  23946.38878065 23871.57719748 33323.39838316\n",
      " 43348.51472364 42386.53918191 34148.76652095 22657.29491416\n",
      " 23305.93801647 18729.82634927 17570.10870038 24388.14884794\n",
      " 22127.22669428 15536.80890693 13719.22067626 12530.39725997\n",
      " 12776.71206919 14944.46166573 19344.32564852 18230.62338578\n",
      " 13207.00978546 13565.43270061 27569.95908281 16785.34677838\n",
      " 21351.34290104 35106.58995085 39251.11572693 23133.95270064\n",
      " 16733.56909357 13808.61085729 12317.47574294  9631.70927656\n",
      "  8246.6078482   7537.89095885  6902.46189228  4001.62042126]\n",
      "------------------------------------------------------------\n",
      "\n",
      "\n",
      "\n"
     ]
    }
   ],
   "source": [
    "##sample 0\n",
    "pred_y = results.predict(tp2_test_p2_s0_features)\n",
    "y = tp2_test_p2_s0_labels\n",
    "print(\"\\nSample 0:\\n MSE : {}\".format(ste.mse(pred_y, y,axis=0)))\n",
    "print(pred_y)\n",
    "\n",
    "##sample 1\n",
    "pred_y = results.predict(tp2_test_p2_s1_features)\n",
    "y = tp2_test_p2_s1_labels\n",
    "print(\"\\nSample 1:\\n MSE : {}\".format(ste.mse(pred_y, y,axis=0)))\n",
    "print(pred_y)\n",
    "\n",
    "##sample 2\n",
    "pred_y = results.predict(tp2_test_p2_s2_features)\n",
    "y = tp2_test_p2_s2_labels\n",
    "print(\"\\nSample 2:\\n MSE : {}\".format(ste.mse(pred_y, y,axis=0)))\n",
    "print(pred_y)\n",
    "print('---'*20)\n",
    "print('\\n\\n')"
   ]
  },
  {
   "cell_type": "markdown",
   "metadata": {},
   "source": [
    "#### Training Random forest"
   ]
  },
  {
   "cell_type": "code",
   "execution_count": 25,
   "metadata": {},
   "outputs": [
    {
     "name": "stdout",
     "output_type": "stream",
     "text": [
      "\n",
      "Random forest Model for Time period 2\n"
     ]
    }
   ],
   "source": [
    "# {'max_depth': 20, 'max_features': 'sqrt', 'min_samples_leaf': 1, 'min_samples_split': 5, 'n_estimators': 200}\n",
    "\n",
    "from sklearn.ensemble import GradientBoostingRegressor\n",
    "\n",
    "# {'max_depth': 60, 'max_features': 'auto', 'min_samples_leaf': 1, 'min_samples_split': 10, 'n_estimators': 200}\n",
    "\n",
    "\n",
    "print('\\nRandom forest Model for Time period 2')\n",
    "X = tp2_train_features\n",
    "y = tp2_train_labels\n",
    "model = GradientBoostingRegressor(max_depth=20,max_features='sqrt',min_samples_leaf=1,min_samples_split=5,n_estimators=200)\n",
    "results = model.fit(X,y)"
   ]
  },
  {
   "cell_type": "markdown",
   "metadata": {},
   "source": [
    "#### Testing Random Forest"
   ]
  },
  {
   "cell_type": "code",
   "execution_count": 26,
   "metadata": {},
   "outputs": [
    {
     "name": "stdout",
     "output_type": "stream",
     "text": [
      "\n",
      "Sample 0:\n",
      " MSE : 0.00033024215369161533\n",
      "[ 1299.99797923  1342.99818058  1226.00205988  1302.00238647\n",
      "  1223.99899977   318.99971415   245.0017484    231.00570369\n",
      "   230.00068857   237.00244558   283.99564121   265.99918893\n",
      "   469.9963885    280.9999222    332.00071973   400.0022418\n",
      "  1400.99524927  1492.99618304  1708.99547117  1494.00241589\n",
      "  1593.00189101  1463.00132118  1107.00345718  1716.00016575\n",
      "  1860.99675291  1611.00095501  1543.9986567   1560.00080508\n",
      "  1769.99610982  1676.00124515  1820.00284903  1569.00090012\n",
      "  1697.0056598   8498.9961299   9648.00047906  9991.00049911\n",
      "  5736.00167218  9790.99378172 14317.99348357 15471.00366332\n",
      " 15150.99877189 15240.99812585 13539.00013146 13771.00421306\n",
      " 13805.00000749 15621.99515314 14181.00261504 14507.99684213\n",
      " 13067.00157364 13879.99254356 12876.00215046 12221.00776686\n",
      " 11965.99901406 12614.99817298 11745.00077776 11468.9932806\n",
      " 11083.00042296 11118.99877619 10466.00018656 11275.99477531\n",
      " 10371.00487545 11089.00246184 10611.00487316 10115.00303401\n",
      "  9768.00088586  9985.9999791   9729.99192529  8193.00695103\n",
      "  7300.00070919  7410.00135417 11059.99663519  9836.9924748\n",
      "  9391.00298398  9200.9983845   9217.00167331  8763.00250295\n",
      "  9214.99697326  8532.00202746  9360.00278233 10175.99561599\n",
      " 10266.99678404 10557.00445966 10779.00009491 12746.99547784\n",
      " 20744.00130695 19360.00181353 27622.99954171 25137.00092311\n",
      " 34866.99815744 32174.96824598 34415.98848006 23369.0651251\n",
      " 22546.00193531 20954.00204517 27242.99917262 25418.99944488\n",
      " 23214.00117996 24046.98528792 36026.99397571 25872.06543475\n",
      " 23175.00329107 26586.99785811 30302.99761852 28063.00192735\n",
      " 22709.00086917 26830.00131152 23483.00196019 27450.0007388\n",
      " 34989.99802524 25681.03564499 35025.00988033 45903.83068122\n",
      " 45772.9610588  37186.00151641 23919.98825428 23983.04901098\n",
      " 19550.00359392 17553.99939503 24797.99929058 22708.00008667\n",
      " 13865.99849398 14375.99695291 12926.99826171 12567.99974431\n",
      " 14721.0027108  19291.99944669 17790.00297833 14339.99944712\n",
      " 12789.0010337  27999.99597102 16209.99274838 21143.00041856\n",
      " 35904.9989055  41702.01239204 24998.04638262 17300.00541736\n",
      " 13896.99879782 12540.00405569  9346.99878159  8026.99881142\n",
      "  6915.00140699  5890.00264534  3177.00087124   610.00421551]\n",
      "\n",
      "Sample 1:\n",
      " MSE : 0.00033024215369161533\n",
      "[ 1299.99797923  1342.99818058  1226.00205988  1302.00238647\n",
      "  1223.99899977   318.99971415   245.0017484    231.00570369\n",
      "   230.00068857   237.00244558   283.99564121   265.99918893\n",
      "   469.9963885    280.9999222    332.00071973   400.0022418\n",
      "  1400.99524927  1492.99618304  1708.99547117  1494.00241589\n",
      "  1593.00189101  1463.00132118  1107.00345718  1716.00016575\n",
      "  1860.99675291  1611.00095501  1543.9986567   1560.00080508\n",
      "  1769.99610982  1676.00124515  1820.00284903  1569.00090012\n",
      "  1697.0056598   8498.9961299   9648.00047906  9991.00049911\n",
      "  5736.00167218  9790.99378172 14317.99348357 15471.00366332\n",
      " 15150.99877189 15240.99812585 13539.00013146 13771.00421306\n",
      " 13805.00000749 15621.99515314 14181.00261504 14507.99684213\n",
      " 13067.00157364 13879.99254356 12876.00215046 12221.00776686\n",
      " 11965.99901406 12614.99817298 11745.00077776 11468.9932806\n",
      " 11083.00042296 11118.99877619 10466.00018656 11275.99477531\n",
      " 10371.00487545 11089.00246184 10611.00487316 10115.00303401\n",
      "  9768.00088586  9985.9999791   9729.99192529  8193.00695103\n",
      "  7300.00070919  7410.00135417 11059.99663519  9836.9924748\n",
      "  9391.00298398  9200.9983845   9217.00167331  8763.00250295\n",
      "  9214.99697326  8532.00202746  9360.00278233 10175.99561599\n",
      " 10266.99678404 10557.00445966 10779.00009491 12746.99547784\n",
      " 20744.00130695 19360.00181353 27622.99954171 25137.00092311\n",
      " 34866.99815744 32174.96824598 34415.98848006 23369.0651251\n",
      " 22546.00193531 20954.00204517 27242.99917262 25418.99944488\n",
      " 23214.00117996 24046.98528792 36026.99397571 25872.06543475\n",
      " 23175.00329107 26586.99785811 30302.99761852 28063.00192735\n",
      " 22709.00086917 26830.00131152 23483.00196019 27450.0007388\n",
      " 34989.99802524 25681.03564499 35025.00988033 45903.83068122\n",
      " 45772.9610588  37186.00151641 23919.98825428 23983.04901098\n",
      " 19550.00359392 17553.99939503 24797.99929058 22708.00008667\n",
      " 13865.99849398 14375.99695291 12926.99826171 12567.99974431\n",
      " 14721.0027108  19291.99944669 17790.00297833 14339.99944712\n",
      " 12789.0010337  27999.99597102 16209.99274838 21143.00041856\n",
      " 35904.9989055  41702.01239204 24998.04638262 17300.00541736\n",
      " 13896.99879782 12540.00405569  9346.99878159  8026.99881142\n",
      "  6915.00140699  5890.00264534  3177.00087124   610.00421551]\n",
      "\n",
      "Sample 2:\n",
      " MSE : 0.00033024215369161533\n",
      "[ 1299.99797923  1342.99818058  1226.00205988  1302.00238647\n",
      "  1223.99899977   318.99971415   245.0017484    231.00570369\n",
      "   230.00068857   237.00244558   283.99564121   265.99918893\n",
      "   469.9963885    280.9999222    332.00071973   400.0022418\n",
      "  1400.99524927  1492.99618304  1708.99547117  1494.00241589\n",
      "  1593.00189101  1463.00132118  1107.00345718  1716.00016575\n",
      "  1860.99675291  1611.00095501  1543.9986567   1560.00080508\n",
      "  1769.99610982  1676.00124515  1820.00284903  1569.00090012\n",
      "  1697.0056598   8498.9961299   9648.00047906  9991.00049911\n",
      "  5736.00167218  9790.99378172 14317.99348357 15471.00366332\n",
      " 15150.99877189 15240.99812585 13539.00013146 13771.00421306\n",
      " 13805.00000749 15621.99515314 14181.00261504 14507.99684213\n",
      " 13067.00157364 13879.99254356 12876.00215046 12221.00776686\n",
      " 11965.99901406 12614.99817298 11745.00077776 11468.9932806\n",
      " 11083.00042296 11118.99877619 10466.00018656 11275.99477531\n",
      " 10371.00487545 11089.00246184 10611.00487316 10115.00303401\n",
      "  9768.00088586  9985.9999791   9729.99192529  8193.00695103\n",
      "  7300.00070919  7410.00135417 11059.99663519  9836.9924748\n",
      "  9391.00298398  9200.9983845   9217.00167331  8763.00250295\n",
      "  9214.99697326  8532.00202746  9360.00278233 10175.99561599\n",
      " 10266.99678404 10557.00445966 10779.00009491 12746.99547784\n",
      " 20744.00130695 19360.00181353 27622.99954171 25137.00092311\n",
      " 34866.99815744 32174.96824598 34415.98848006 23369.0651251\n",
      " 22546.00193531 20954.00204517 27242.99917262 25418.99944488\n",
      " 23214.00117996 24046.98528792 36026.99397571 25872.06543475\n",
      " 23175.00329107 26586.99785811 30302.99761852 28063.00192735\n",
      " 22709.00086917 26830.00131152 23483.00196019 27450.0007388\n",
      " 34989.99802524 25681.03564499 35025.00988033 45903.83068122\n",
      " 45772.9610588  37186.00151641 23919.98825428 23983.04901098\n",
      " 19550.00359392 17553.99939503 24797.99929058 22708.00008667\n",
      " 13865.99849398 14375.99695291 12926.99826171 12567.99974431\n",
      " 14721.0027108  19291.99944669 17790.00297833 14339.99944712\n",
      " 12789.0010337  27999.99597102 16209.99274838 21143.00041856\n",
      " 35904.9989055  41702.01239204 24998.04638262 17300.00541736\n",
      " 13896.99879782 12540.00405569  9346.99878159  8026.99881142\n",
      "  6915.00140699  5890.00264534  3177.00087124   610.00421551]\n",
      "------------------------------------------------------------\n",
      "\n",
      "\n",
      "\n"
     ]
    }
   ],
   "source": [
    "##sample 0\n",
    "pred_y = results.predict(tp2_test_p2_s0_features)\n",
    "y = tp2_test_p2_s0_labels\n",
    "print(\"\\nSample 0:\\n MSE : {}\".format(ste.mse(pred_y, y,axis=0)))\n",
    "print(pred_y)\n",
    "\n",
    "##sample 1\n",
    "pred_y = results.predict(tp2_test_p2_s1_features)\n",
    "y = tp2_test_p2_s1_labels\n",
    "print(\"\\nSample 1:\\n MSE : {}\".format(ste.mse(pred_y, y,axis=0)))\n",
    "print(pred_y)\n",
    "\n",
    "##sample 2\n",
    "pred_y = results.predict(tp2_test_p2_s2_features)\n",
    "y = tp2_test_p2_s2_labels\n",
    "print(\"\\nSample 2:\\n MSE : {}\".format(ste.mse(pred_y, y,axis=0)))\n",
    "print(pred_y)\n",
    "print('---'*20)\n",
    "print('\\n\\n')"
   ]
  },
  {
   "cell_type": "markdown",
   "metadata": {},
   "source": [
    "#### Training Neural Network"
   ]
  },
  {
   "cell_type": "code",
   "execution_count": 27,
   "metadata": {},
   "outputs": [],
   "source": [
    "from sklearn.neural_network import MLPRegressor\n",
    "from sklearn.metrics import mean_squared_error\n",
    "from sklearn.preprocessing import StandardScaler\n",
    "\n",
    "X = tp2_train_features\n",
    "y = tp2_train_labels\n",
    "nn = MLPRegressor(hidden_layer_sizes=(500, 250, 125, 63),max_iter=500)\n",
    "results = nn.fit(X,y)"
   ]
  },
  {
   "cell_type": "markdown",
   "metadata": {},
   "source": [
    "#### Testing Neural Network"
   ]
  },
  {
   "cell_type": "code",
   "execution_count": 28,
   "metadata": {},
   "outputs": [
    {
     "name": "stdout",
     "output_type": "stream",
     "text": [
      "\n",
      "Sample 0:\n",
      " MSE : 142190872890.59784\n",
      "[-7.51560643e+02 -3.54304515e+04 -8.85583292e+03 -1.57963898e+04\n",
      " -2.73523993e+04 -2.01301754e+04 -2.03935405e+04 -2.65184042e+04\n",
      " -5.79443591e+04 -2.37513347e+04 -2.44536936e+04 -4.49707472e+04\n",
      " -1.27930055e+04 -9.19365598e+04 -1.36705338e+04 -1.28551383e+04\n",
      " -9.86388581e+03 -2.04286307e+04 -2.13017016e+04 -5.31621911e+04\n",
      " -1.94361249e+04 -2.61934401e+04 -1.47850169e+04 -4.67439147e+04\n",
      " -1.24889952e+04 -3.77304336e+04 -1.50206746e+04 -2.39407984e+04\n",
      " -5.03557747e+04 -1.36282569e+04 -3.02003151e+04 -3.74633796e+04\n",
      " -3.44858617e+04 -9.86076273e+03 -1.29549515e+04 -3.38082963e+04\n",
      " -3.88784141e+04 -4.61727501e+04 -4.45734785e+04 -2.72576615e+04\n",
      " -3.24994484e+04 -3.62151675e+04 -4.36898323e+04 -2.39578173e+04\n",
      " -4.23730702e+04 -3.52782699e+04 -4.49713785e+04 -2.36968271e+04\n",
      " -4.43641685e+04 -4.94002776e+04 -4.93274841e+04 -4.54832473e+04\n",
      " -2.91378261e+04 -5.19012351e+04 -3.79244128e+04 -2.37133650e+04\n",
      " -3.34791441e+04 -4.69298292e+04 -4.88617659e+04 -4.06797245e+04\n",
      " -4.25901871e+04 -1.02382969e+05 -4.95082358e+04 -1.94164103e+04\n",
      " -3.31377828e+04 -3.41197420e+04 -2.54499515e+04 -7.87110443e+04\n",
      " -2.96897781e+04 -3.46953898e+04 -3.96257924e+04 -3.50048308e+05\n",
      " -1.44935212e+04 -8.68185251e+04 -4.20781478e+04 -2.37115975e+04\n",
      " -1.24934189e+05 -6.86215975e+04 -4.93616529e+04 -7.68323445e+04\n",
      " -7.27963259e+04 -8.15217235e+04 -6.64439034e+04 -6.41120354e+04\n",
      " -6.86483625e+04 -5.10376082e+05 -2.16012397e+05 -4.42728448e+05\n",
      " -4.84214588e+05 -5.63680598e+05 -6.23661081e+05 -9.44629458e+05\n",
      " -4.19831023e+05 -4.10888905e+05 -5.14581675e+05 -5.87659357e+05\n",
      " -6.42308074e+05 -6.78090083e+05 -4.08222054e+05 -6.87406282e+05\n",
      " -4.44118137e+05 -4.23383124e+05 -3.05576204e+05 -6.00512661e+05\n",
      " -5.90489784e+05 -3.72027856e+05 -5.12689601e+05 -3.18428777e+05\n",
      " -3.71286282e+05 -9.36926631e+05 -6.58168255e+05 -9.09577291e+05\n",
      " -1.36877886e+06 -1.08818522e+06 -8.85085628e+05 -5.05086119e+05\n",
      " -6.25073949e+05 -4.96441134e+05 -5.88356838e+05 -6.48512895e+05\n",
      " -6.41536726e+05 -2.30702401e+05 -2.59765239e+05 -3.80161972e+05\n",
      " -4.82564962e+05 -4.55073578e+05 -6.27858360e+05 -4.17990960e+05\n",
      " -3.69418222e+05 -4.57848208e+05 -7.76988405e+05 -2.41066441e+05\n",
      " -2.84695841e+05 -6.58553034e+05 -8.91037097e+05 -3.64343279e+05\n",
      " -2.43040822e+05 -2.39038471e+05 -1.23189329e+05 -9.18093551e+04\n",
      " -9.80328670e+04 -9.57441296e+04 -4.61844783e+04 -3.83394024e+04]\n",
      "\n",
      "Sample 1:\n",
      " MSE : 142190872890.59784\n",
      "[-7.51560643e+02 -3.54304515e+04 -8.85583292e+03 -1.57963898e+04\n",
      " -2.73523993e+04 -2.01301754e+04 -2.03935405e+04 -2.65184042e+04\n",
      " -5.79443591e+04 -2.37513347e+04 -2.44536936e+04 -4.49707472e+04\n",
      " -1.27930055e+04 -9.19365598e+04 -1.36705338e+04 -1.28551383e+04\n",
      " -9.86388581e+03 -2.04286307e+04 -2.13017016e+04 -5.31621911e+04\n",
      " -1.94361249e+04 -2.61934401e+04 -1.47850169e+04 -4.67439147e+04\n",
      " -1.24889952e+04 -3.77304336e+04 -1.50206746e+04 -2.39407984e+04\n",
      " -5.03557747e+04 -1.36282569e+04 -3.02003151e+04 -3.74633796e+04\n",
      " -3.44858617e+04 -9.86076273e+03 -1.29549515e+04 -3.38082963e+04\n",
      " -3.88784141e+04 -4.61727501e+04 -4.45734785e+04 -2.72576615e+04\n",
      " -3.24994484e+04 -3.62151675e+04 -4.36898323e+04 -2.39578173e+04\n",
      " -4.23730702e+04 -3.52782699e+04 -4.49713785e+04 -2.36968271e+04\n",
      " -4.43641685e+04 -4.94002776e+04 -4.93274841e+04 -4.54832473e+04\n",
      " -2.91378261e+04 -5.19012351e+04 -3.79244128e+04 -2.37133650e+04\n",
      " -3.34791441e+04 -4.69298292e+04 -4.88617659e+04 -4.06797245e+04\n",
      " -4.25901871e+04 -1.02382969e+05 -4.95082358e+04 -1.94164103e+04\n",
      " -3.31377828e+04 -3.41197420e+04 -2.54499515e+04 -7.87110443e+04\n",
      " -2.96897781e+04 -3.46953898e+04 -3.96257924e+04 -3.50048308e+05\n",
      " -1.44935212e+04 -8.68185251e+04 -4.20781478e+04 -2.37115975e+04\n",
      " -1.24934189e+05 -6.86215975e+04 -4.93616529e+04 -7.68323445e+04\n",
      " -7.27963259e+04 -8.15217235e+04 -6.64439034e+04 -6.41120354e+04\n",
      " -6.86483625e+04 -5.10376082e+05 -2.16012397e+05 -4.42728448e+05\n",
      " -4.84214588e+05 -5.63680598e+05 -6.23661081e+05 -9.44629458e+05\n",
      " -4.19831023e+05 -4.10888905e+05 -5.14581675e+05 -5.87659357e+05\n",
      " -6.42308074e+05 -6.78090083e+05 -4.08222054e+05 -6.87406282e+05\n",
      " -4.44118137e+05 -4.23383124e+05 -3.05576204e+05 -6.00512661e+05\n",
      " -5.90489784e+05 -3.72027856e+05 -5.12689601e+05 -3.18428777e+05\n",
      " -3.71286282e+05 -9.36926631e+05 -6.58168255e+05 -9.09577291e+05\n",
      " -1.36877886e+06 -1.08818522e+06 -8.85085628e+05 -5.05086119e+05\n",
      " -6.25073949e+05 -4.96441134e+05 -5.88356838e+05 -6.48512895e+05\n",
      " -6.41536726e+05 -2.30702401e+05 -2.59765239e+05 -3.80161972e+05\n",
      " -4.82564962e+05 -4.55073578e+05 -6.27858360e+05 -4.17990960e+05\n",
      " -3.69418222e+05 -4.57848208e+05 -7.76988405e+05 -2.41066441e+05\n",
      " -2.84695841e+05 -6.58553034e+05 -8.91037097e+05 -3.64343279e+05\n",
      " -2.43040822e+05 -2.39038471e+05 -1.23189329e+05 -9.18093551e+04\n",
      " -9.80328670e+04 -9.57441296e+04 -4.61844783e+04 -3.83394024e+04]\n",
      "\n",
      "Sample 2:\n",
      " MSE : 142190872890.59784\n",
      "[-7.51560643e+02 -3.54304515e+04 -8.85583292e+03 -1.57963898e+04\n",
      " -2.73523993e+04 -2.01301754e+04 -2.03935405e+04 -2.65184042e+04\n",
      " -5.79443591e+04 -2.37513347e+04 -2.44536936e+04 -4.49707472e+04\n",
      " -1.27930055e+04 -9.19365598e+04 -1.36705338e+04 -1.28551383e+04\n",
      " -9.86388581e+03 -2.04286307e+04 -2.13017016e+04 -5.31621911e+04\n",
      " -1.94361249e+04 -2.61934401e+04 -1.47850169e+04 -4.67439147e+04\n",
      " -1.24889952e+04 -3.77304336e+04 -1.50206746e+04 -2.39407984e+04\n",
      " -5.03557747e+04 -1.36282569e+04 -3.02003151e+04 -3.74633796e+04\n",
      " -3.44858617e+04 -9.86076273e+03 -1.29549515e+04 -3.38082963e+04\n",
      " -3.88784141e+04 -4.61727501e+04 -4.45734785e+04 -2.72576615e+04\n",
      " -3.24994484e+04 -3.62151675e+04 -4.36898323e+04 -2.39578173e+04\n",
      " -4.23730702e+04 -3.52782699e+04 -4.49713785e+04 -2.36968271e+04\n",
      " -4.43641685e+04 -4.94002776e+04 -4.93274841e+04 -4.54832473e+04\n",
      " -2.91378261e+04 -5.19012351e+04 -3.79244128e+04 -2.37133650e+04\n",
      " -3.34791441e+04 -4.69298292e+04 -4.88617659e+04 -4.06797245e+04\n",
      " -4.25901871e+04 -1.02382969e+05 -4.95082358e+04 -1.94164103e+04\n",
      " -3.31377828e+04 -3.41197420e+04 -2.54499515e+04 -7.87110443e+04\n",
      " -2.96897781e+04 -3.46953898e+04 -3.96257924e+04 -3.50048308e+05\n",
      " -1.44935212e+04 -8.68185251e+04 -4.20781478e+04 -2.37115975e+04\n",
      " -1.24934189e+05 -6.86215975e+04 -4.93616529e+04 -7.68323445e+04\n",
      " -7.27963259e+04 -8.15217235e+04 -6.64439034e+04 -6.41120354e+04\n",
      " -6.86483625e+04 -5.10376082e+05 -2.16012397e+05 -4.42728448e+05\n",
      " -4.84214588e+05 -5.63680598e+05 -6.23661081e+05 -9.44629458e+05\n",
      " -4.19831023e+05 -4.10888905e+05 -5.14581675e+05 -5.87659357e+05\n",
      " -6.42308074e+05 -6.78090083e+05 -4.08222054e+05 -6.87406282e+05\n",
      " -4.44118137e+05 -4.23383124e+05 -3.05576204e+05 -6.00512661e+05\n",
      " -5.90489784e+05 -3.72027856e+05 -5.12689601e+05 -3.18428777e+05\n",
      " -3.71286282e+05 -9.36926631e+05 -6.58168255e+05 -9.09577291e+05\n",
      " -1.36877886e+06 -1.08818522e+06 -8.85085628e+05 -5.05086119e+05\n",
      " -6.25073949e+05 -4.96441134e+05 -5.88356838e+05 -6.48512895e+05\n",
      " -6.41536726e+05 -2.30702401e+05 -2.59765239e+05 -3.80161972e+05\n",
      " -4.82564962e+05 -4.55073578e+05 -6.27858360e+05 -4.17990960e+05\n",
      " -3.69418222e+05 -4.57848208e+05 -7.76988405e+05 -2.41066441e+05\n",
      " -2.84695841e+05 -6.58553034e+05 -8.91037097e+05 -3.64343279e+05\n",
      " -2.43040822e+05 -2.39038471e+05 -1.23189329e+05 -9.18093551e+04\n",
      " -9.80328670e+04 -9.57441296e+04 -4.61844783e+04 -3.83394024e+04]\n",
      "------------------------------------------------------------\n",
      "\n",
      "\n",
      "\n"
     ]
    }
   ],
   "source": [
    "##sample 0\n",
    "pred_y = results.predict(tp2_test_p2_s0_features)\n",
    "y = tp2_test_p2_s0_labels\n",
    "print(\"\\nSample 0:\\n MSE : {}\".format(ste.mse(pred_y, y,axis=0)))\n",
    "print(pred_y)\n",
    "\n",
    "##sample 1\n",
    "pred_y = results.predict(tp2_test_p2_s1_features)\n",
    "y = tp2_test_p2_s1_labels\n",
    "print(\"\\nSample 1:\\n MSE : {}\".format(ste.mse(pred_y, y,axis=0)))\n",
    "print(pred_y)\n",
    "\n",
    "##sample 2\n",
    "pred_y = results.predict(tp2_test_p2_s2_features)\n",
    "y = tp2_test_p2_s2_labels\n",
    "print(\"\\nSample 2:\\n MSE : {}\".format(ste.mse(pred_y, y,axis=0)))\n",
    "print(pred_y)\n",
    "print('---'*20)\n",
    "print('\\n\\n')"
   ]
  },
  {
   "cell_type": "markdown",
   "metadata": {},
   "source": [
    "## Timeperiod 3"
   ]
  },
  {
   "cell_type": "markdown",
   "metadata": {},
   "source": [
    "### Building training set for Timeperiod 3(same as q7)"
   ]
  },
  {
   "cell_type": "code",
   "execution_count": 29,
   "metadata": {},
   "outputs": [
    {
     "name": "stdout",
     "output_type": "stream",
     "text": [
      "Finished Building feature vectors for training set for time period 2\n"
     ]
    }
   ],
   "source": [
    "#tp3\n",
    "tp3_window_size = 3600 # 1 hour window size\n",
    "tp3_start_ts = 1422849600\n",
    "tp3_end_ts = tp3_window_size * math.ceil(globalMaxTs/(tp3_window_size*1.0))\n",
    "tp3_train_features,tp3_train_labels = getFeatures(tp3_start_ts,tp3_end_ts,tp3_window_size)\n",
    "\n",
    "save_object(tp3_train_features, \"q14_tp3_train_features\")\n",
    "save_object(tp3_train_labels, \"q14_tp3_train_labels\")\n",
    "\n",
    "print(\"Finished Building feature vectors for training set for time period 2\")"
   ]
  },
  {
   "cell_type": "markdown",
   "metadata": {},
   "source": [
    "### Building test set for Timeperiod 3(sample 0)"
   ]
  },
  {
   "cell_type": "code",
   "execution_count": 30,
   "metadata": {},
   "outputs": [
    {
     "name": "stdout",
     "output_type": "stream",
     "text": [
      "Finished Building test feature vectors for time period 3 sample 0\n"
     ]
    }
   ],
   "source": [
    "import statsmodels.api as sm\n",
    "\n",
    "file = 'sample0_period3.txt'\n",
    "\n",
    "tp3_window_size = 3600 # 1 hour window size\n",
    "tp3_start_ts = 1422849600\n",
    "tp3_end_ts = tp3_window_size * math.ceil(globalMaxTs/(tp3_window_size*1.0))\n",
    "tp3_test_p3_s0_features,tp3_test_p3_s0_labels = getFeatures(tp3_start_ts,tp3_end_ts,tp3_window_size)\n",
    "\n",
    "save_object(tp3_test_p3_s0_features, \"q14_tp3_test_p3_s0_features\")\n",
    "save_object(tp3_test_p3_s0_labels, \"q14_tp3_test_p3_s0_labels\")\n",
    "print(\"Finished Building test feature vectors for time period 3 sample 0\")"
   ]
  },
  {
   "cell_type": "markdown",
   "metadata": {},
   "source": [
    "### Building test set for Timeperiod 3(sample 1)"
   ]
  },
  {
   "cell_type": "code",
   "execution_count": 31,
   "metadata": {},
   "outputs": [
    {
     "name": "stdout",
     "output_type": "stream",
     "text": [
      "Finished Building test feature vectors for time period 3 sample 1\n"
     ]
    }
   ],
   "source": [
    "import statsmodels.api as sm\n",
    "\n",
    "file = 'sample1_period3.txt'\n",
    "\n",
    "tp3_window_size = 3600 # 1 hour window size\n",
    "tp3_start_ts = 1422849600\n",
    "tp3_end_ts = tp3_window_size * math.ceil(globalMaxTs/(tp3_window_size*1.0))\n",
    "tp3_test_p3_s1_features,tp3_test_p3_s1_labels = getFeatures(tp3_start_ts,tp3_end_ts,tp3_window_size)\n",
    "\n",
    "save_object(tp3_test_p3_s1_features, \"q14_tp3_test_p3_s1_features\")\n",
    "save_object(tp3_test_p3_s1_labels, \"q14_tp3_test_p3_s1_labels\")\n",
    "print(\"Finished Building test feature vectors for time period 3 sample 1\")"
   ]
  },
  {
   "cell_type": "markdown",
   "metadata": {},
   "source": [
    "### Building test set for Timeperiod 3(sample 2)"
   ]
  },
  {
   "cell_type": "code",
   "execution_count": 32,
   "metadata": {},
   "outputs": [
    {
     "name": "stdout",
     "output_type": "stream",
     "text": [
      "Finished Building test feature vectors for time period 3 sample 2\n"
     ]
    }
   ],
   "source": [
    "import statsmodels.api as sm\n",
    "\n",
    "file = 'sample2_period3.txt'\n",
    "\n",
    "tp3_window_size = 3600 # 1 hour window size\n",
    "tp3_start_ts = 1422849600\n",
    "tp3_end_ts = tp3_window_size * math.ceil(globalMaxTs/(tp3_window_size*1.0))\n",
    "tp3_test_p3_s2_features,tp3_test_p3_s2_labels = getFeatures(tp3_start_ts,tp3_end_ts,tp3_window_size)\n",
    "\n",
    "save_object(tp3_test_p3_s2_features, \"q14_tp3_test_p3_s2_features\")\n",
    "save_object(tp3_test_p3_s2_labels, \"q14_tp3_test_p3_s2_labels\")\n",
    "print(\"Finished Building test feature vectors for time period 3 sample 2\")"
   ]
  },
  {
   "cell_type": "markdown",
   "metadata": {},
   "source": [
    "#### Training Linear Regression Model"
   ]
  },
  {
   "cell_type": "code",
   "execution_count": 33,
   "metadata": {},
   "outputs": [
    {
     "name": "stdout",
     "output_type": "stream",
     "text": [
      "\n",
      "Linear Regression Model for Time period 3\n"
     ]
    }
   ],
   "source": [
    "import statsmodels.api as sm\n",
    "import statsmodels.tools.eval_measures as ste\n",
    "\n",
    "print('\\nLinear Regression Model for Time period 3')\n",
    "X_orig = tp3_train_features\n",
    "y = tp3_train_labels\n",
    "\n",
    "# https://becominghuman.ai/stats-models-vs-sklearn-for-linear-regression-f19df95ad99b\n",
    "X = sm.add_constant(X_orig)\n",
    "\n",
    "model = sm.OLS(y,X)\n",
    "results = model.fit()"
   ]
  },
  {
   "cell_type": "markdown",
   "metadata": {},
   "source": [
    "#### Testing Linear Regression Model"
   ]
  },
  {
   "cell_type": "code",
   "execution_count": 34,
   "metadata": {},
   "outputs": [
    {
     "name": "stdout",
     "output_type": "stream",
     "text": [
      "\n",
      "Sample 0:\n",
      " MSE : 2342692.4629372233\n",
      "[ 526.82117027 9082.84056009 4584.27948952 4919.49676512 4107.09562305\n",
      " 2562.32062628 2018.55868467 2513.59230503 2935.20688273 3435.79809984\n",
      " 4852.5611094  4660.83601093 4320.49640057 3435.91795707 4712.39929162\n",
      " 4124.78589035 7740.57637216 7110.07082011 6142.03175499 5929.47879199\n",
      " 5712.09436694 4410.69959764 3629.23932998 3850.24031715 3384.37834685\n",
      " 3296.6146317  3033.56916609 1770.36837763 1731.88494142 1588.07616929\n",
      " 1383.27428818 1370.29316864 1062.41421746 1471.70364319 1678.05833336\n",
      " 2738.90004154 2359.76376465 2338.27203269 2865.99414818 2752.0645245\n",
      " 2695.61215512 2960.84680565 1954.71695029 2276.91475283 2018.59881373\n",
      " 2221.41427978 1544.10129702 1330.60421104 1001.57163592 1275.15153735\n",
      " 1267.94932014 1064.39248253  834.39072793  865.61170595  770.12139064\n",
      "  970.84667855  897.75254861  912.38995955 1063.46079774 1374.46133498\n",
      " 1526.81029051 1560.82472822 1700.16302128 1763.90513032 1675.72627961\n",
      " 1321.13242493 1305.5128619  1537.14386299 1612.94030699 1819.04873685\n",
      " 1126.01791434 1137.87399887 1098.4028551   947.35237378 1140.11266313\n",
      "  906.15106486  891.49105774  763.61973712  717.71416843  816.51383957\n",
      "  850.26833959  824.60497982  907.76843814  969.48046591 1077.85772182\n",
      " 1382.15323332 1127.92766288 1168.65833693 1150.85895429 1196.42276451\n",
      " 1225.22948653 1234.54768424 1119.64923493 1056.7715691  1057.23041433\n",
      " 1007.43524109  844.16586496  885.91815052  925.57149432  825.92723935\n",
      "  692.42865183  741.23979022  748.6760482   758.36706238  760.36481294\n",
      "  855.60284292  775.71368546 1070.8255624  1120.47119449 1380.87135839\n",
      " 1271.65077137 1237.14236991 1571.81417508 1499.54024221 1241.21485257\n",
      " 1246.82799322 1280.67551803 1058.89341496 1239.3316136  1061.80933819\n",
      " 1008.75096218 1177.85819901  981.1713654   791.3034918   767.42240725\n",
      "  542.42822615  541.51665312  539.45179655  534.94338338  534.78567998\n",
      "  544.33002581  545.19809595  596.25584446  547.73156148  559.50901777]\n",
      "\n",
      "Sample 1:\n",
      " MSE : 2342692.4629372233\n",
      "[ 526.82117027 9082.84056009 4584.27948952 4919.49676512 4107.09562305\n",
      " 2562.32062628 2018.55868467 2513.59230503 2935.20688273 3435.79809984\n",
      " 4852.5611094  4660.83601093 4320.49640057 3435.91795707 4712.39929162\n",
      " 4124.78589035 7740.57637216 7110.07082011 6142.03175499 5929.47879199\n",
      " 5712.09436694 4410.69959764 3629.23932998 3850.24031715 3384.37834685\n",
      " 3296.6146317  3033.56916609 1770.36837763 1731.88494142 1588.07616929\n",
      " 1383.27428818 1370.29316864 1062.41421746 1471.70364319 1678.05833336\n",
      " 2738.90004154 2359.76376465 2338.27203269 2865.99414818 2752.0645245\n",
      " 2695.61215512 2960.84680565 1954.71695029 2276.91475283 2018.59881373\n",
      " 2221.41427978 1544.10129702 1330.60421104 1001.57163592 1275.15153735\n",
      " 1267.94932014 1064.39248253  834.39072793  865.61170595  770.12139064\n",
      "  970.84667855  897.75254861  912.38995955 1063.46079774 1374.46133498\n",
      " 1526.81029051 1560.82472822 1700.16302128 1763.90513032 1675.72627961\n",
      " 1321.13242493 1305.5128619  1537.14386299 1612.94030699 1819.04873685\n",
      " 1126.01791434 1137.87399887 1098.4028551   947.35237378 1140.11266313\n",
      "  906.15106486  891.49105774  763.61973712  717.71416843  816.51383957\n",
      "  850.26833959  824.60497982  907.76843814  969.48046591 1077.85772182\n",
      " 1382.15323332 1127.92766288 1168.65833693 1150.85895429 1196.42276451\n",
      " 1225.22948653 1234.54768424 1119.64923493 1056.7715691  1057.23041433\n",
      " 1007.43524109  844.16586496  885.91815052  925.57149432  825.92723935\n",
      "  692.42865183  741.23979022  748.6760482   758.36706238  760.36481294\n",
      "  855.60284292  775.71368546 1070.8255624  1120.47119449 1380.87135839\n",
      " 1271.65077137 1237.14236991 1571.81417508 1499.54024221 1241.21485257\n",
      " 1246.82799322 1280.67551803 1058.89341496 1239.3316136  1061.80933819\n",
      " 1008.75096218 1177.85819901  981.1713654   791.3034918   767.42240725\n",
      "  542.42822615  541.51665312  539.45179655  534.94338338  534.78567998\n",
      "  544.33002581  545.19809595  596.25584446  547.73156148  559.50901777]\n",
      "\n",
      "Sample 2:\n",
      " MSE : 2342692.4629372233\n",
      "[ 526.82117027 9082.84056009 4584.27948952 4919.49676512 4107.09562305\n",
      " 2562.32062628 2018.55868467 2513.59230503 2935.20688273 3435.79809984\n",
      " 4852.5611094  4660.83601093 4320.49640057 3435.91795707 4712.39929162\n",
      " 4124.78589035 7740.57637216 7110.07082011 6142.03175499 5929.47879199\n",
      " 5712.09436694 4410.69959764 3629.23932998 3850.24031715 3384.37834685\n",
      " 3296.6146317  3033.56916609 1770.36837763 1731.88494142 1588.07616929\n",
      " 1383.27428818 1370.29316864 1062.41421746 1471.70364319 1678.05833336\n",
      " 2738.90004154 2359.76376465 2338.27203269 2865.99414818 2752.0645245\n",
      " 2695.61215512 2960.84680565 1954.71695029 2276.91475283 2018.59881373\n",
      " 2221.41427978 1544.10129702 1330.60421104 1001.57163592 1275.15153735\n",
      " 1267.94932014 1064.39248253  834.39072793  865.61170595  770.12139064\n",
      "  970.84667855  897.75254861  912.38995955 1063.46079774 1374.46133498\n",
      " 1526.81029051 1560.82472822 1700.16302128 1763.90513032 1675.72627961\n",
      " 1321.13242493 1305.5128619  1537.14386299 1612.94030699 1819.04873685\n",
      " 1126.01791434 1137.87399887 1098.4028551   947.35237378 1140.11266313\n",
      "  906.15106486  891.49105774  763.61973712  717.71416843  816.51383957\n",
      "  850.26833959  824.60497982  907.76843814  969.48046591 1077.85772182\n",
      " 1382.15323332 1127.92766288 1168.65833693 1150.85895429 1196.42276451\n",
      " 1225.22948653 1234.54768424 1119.64923493 1056.7715691  1057.23041433\n",
      " 1007.43524109  844.16586496  885.91815052  925.57149432  825.92723935\n",
      "  692.42865183  741.23979022  748.6760482   758.36706238  760.36481294\n",
      "  855.60284292  775.71368546 1070.8255624  1120.47119449 1380.87135839\n",
      " 1271.65077137 1237.14236991 1571.81417508 1499.54024221 1241.21485257\n",
      " 1246.82799322 1280.67551803 1058.89341496 1239.3316136  1061.80933819\n",
      " 1008.75096218 1177.85819901  981.1713654   791.3034918   767.42240725\n",
      "  542.42822615  541.51665312  539.45179655  534.94338338  534.78567998\n",
      "  544.33002581  545.19809595  596.25584446  547.73156148  559.50901777]\n",
      "------------------------------------------------------------\n",
      "\n",
      "\n",
      "\n"
     ]
    }
   ],
   "source": [
    "##sample 0\n",
    "pred_y = results.predict(tp3_test_p3_s0_features)\n",
    "y = tp3_test_p3_s0_labels\n",
    "print(\"\\nSample 0:\\n MSE : {}\".format(ste.mse(pred_y, y,axis=0)))\n",
    "print(pred_y)\n",
    "\n",
    "##sample 1\n",
    "pred_y = results.predict(tp3_test_p3_s1_features)\n",
    "y = tp3_test_p3_s1_labels\n",
    "print(\"\\nSample 1:\\n MSE : {}\".format(ste.mse(pred_y, y,axis=0)))\n",
    "print(pred_y)\n",
    "\n",
    "##sample 2\n",
    "pred_y = results.predict(tp3_test_p3_s2_features)\n",
    "y = tp3_test_p3_s2_labels\n",
    "print(\"\\nSample 2:\\n MSE : {}\".format(ste.mse(pred_y, y,axis=0)))\n",
    "print(pred_y)\n",
    "print('---'*20)\n",
    "print('\\n\\n')"
   ]
  },
  {
   "cell_type": "markdown",
   "metadata": {},
   "source": [
    "#### Training Random forest"
   ]
  },
  {
   "cell_type": "code",
   "execution_count": 35,
   "metadata": {},
   "outputs": [
    {
     "name": "stdout",
     "output_type": "stream",
     "text": [
      "\n",
      "Random forest Model for Time period 3\n"
     ]
    }
   ],
   "source": [
    "# {'max_depth': 20, 'max_features': 'sqrt', 'min_samples_leaf': 1, 'min_samples_split': 5, 'n_estimators': 200}\n",
    "\n",
    "from sklearn.ensemble import GradientBoostingRegressor\n",
    "\n",
    "# {'max_depth': 60, 'max_features': 'auto', 'min_samples_leaf': 1, 'min_samples_split': 10, 'n_estimators': 200}\n",
    "\n",
    "\n",
    "print('\\nRandom forest Model for Time period 3')\n",
    "X = tp3_train_features\n",
    "y = tp3_train_labels\n",
    "model = GradientBoostingRegressor(max_depth=20,max_features='sqrt',min_samples_leaf=1,min_samples_split=2,n_estimators=200)\n",
    "results = model.fit(X,y)"
   ]
  },
  {
   "cell_type": "markdown",
   "metadata": {},
   "source": [
    "#### Testing Random Forest"
   ]
  },
  {
   "cell_type": "code",
   "execution_count": 36,
   "metadata": {},
   "outputs": [
    {
     "name": "stdout",
     "output_type": "stream",
     "text": [
      "\n",
      "Sample 0:\n",
      " MSE : 9.835521900158752e-08\n",
      "[1.62709990e+04 6.49699977e+03 9.03899925e+03 5.01299980e+03\n",
      " 3.29300032e+03 2.60200003e+03 2.54399989e+03 3.30999961e+03\n",
      " 4.06999985e+03 4.68899977e+03 5.02299980e+03 5.05199980e+03\n",
      " 4.52899988e+03 6.07499929e+03 5.14299978e+03 7.56499926e+03\n",
      " 7.46699925e+03 6.55499973e+03 6.48199972e+03 5.82199987e+03\n",
      " 5.17499978e+03 4.38000024e+03 4.12600003e+03 3.56600004e+03\n",
      " 2.99399989e+03 2.27600027e+03 1.86300025e+03 1.40400027e+03\n",
      " 1.34700009e+03 1.22500006e+03 1.15699993e+03 1.30999989e+03\n",
      " 1.39700011e+03 1.74099956e+03 2.16199960e+03 2.37699973e+03\n",
      " 2.65699991e+03 3.56299969e+03 2.80100005e+03 2.51700002e+03\n",
      " 2.66299976e+03 2.25300029e+03 1.78399985e+03 1.92599977e+03\n",
      " 1.60900015e+03 1.61700003e+03 1.11600018e+03 5.26000620e+02\n",
      " 1.26799968e+03 1.18199988e+03 9.73000269e+02 5.49000436e+02\n",
      " 6.46000013e+02 4.50000330e+02 8.14999677e+02 6.34000086e+02\n",
      " 7.79999715e+02 8.83999967e+02 1.13699966e+03 1.40699948e+03\n",
      " 1.69599960e+03 1.88399963e+03 1.48900002e+03 1.61799967e+03\n",
      " 1.07500036e+03 1.30499968e+03 1.20899985e+03 1.29899974e+03\n",
      " 1.16700025e+03 9.09000301e+02 1.03700016e+03 8.97000281e+02\n",
      " 8.12000383e+02 7.82999898e+02 6.81000414e+02 5.39000077e+02\n",
      " 4.49000282e+02 3.52000514e+02 4.05000190e+02 3.85000477e+02\n",
      " 5.39999971e+02 6.83000390e+02 7.75999795e+02 8.72000059e+02\n",
      " 1.04499978e+03 9.91999956e+02 1.07999973e+03 1.05500017e+03\n",
      " 1.11999993e+03 1.15399982e+03 9.83000303e+02 9.20000098e+02\n",
      " 9.06000147e+02 8.69000206e+02 8.65000172e+02 5.37000427e+02\n",
      " 6.79000093e+02 7.26999960e+02 5.24000449e+02 2.56000634e+02\n",
      " 4.06000088e+02 4.16000011e+02 4.40999804e+02 4.28999966e+02\n",
      " 5.13999870e+02 3.80000321e+02 9.14999660e+02 1.09099976e+03\n",
      " 1.21299960e+03 1.15000012e+03 1.24199979e+03 1.42099949e+03\n",
      " 1.55799984e+03 1.16000012e+03 1.25300008e+03 9.42000264e+02\n",
      " 9.36000076e+02 1.21999955e+03 9.83000246e+02 8.52000291e+02\n",
      " 8.55999747e+02 8.82000135e+02 5.03000124e+02 4.11000211e+02\n",
      " 3.00005667e+01 2.80003690e+01 2.60004883e+01 1.30006695e+01\n",
      " 1.70006541e+01 3.60000749e+01 3.60002521e+01 8.49998312e+01\n",
      " 5.90002208e+01 4.90004064e+01 5.20004474e+01]\n",
      "\n",
      "Sample 1:\n",
      " MSE : 9.835521900158752e-08\n",
      "[1.62709990e+04 6.49699977e+03 9.03899925e+03 5.01299980e+03\n",
      " 3.29300032e+03 2.60200003e+03 2.54399989e+03 3.30999961e+03\n",
      " 4.06999985e+03 4.68899977e+03 5.02299980e+03 5.05199980e+03\n",
      " 4.52899988e+03 6.07499929e+03 5.14299978e+03 7.56499926e+03\n",
      " 7.46699925e+03 6.55499973e+03 6.48199972e+03 5.82199987e+03\n",
      " 5.17499978e+03 4.38000024e+03 4.12600003e+03 3.56600004e+03\n",
      " 2.99399989e+03 2.27600027e+03 1.86300025e+03 1.40400027e+03\n",
      " 1.34700009e+03 1.22500006e+03 1.15699993e+03 1.30999989e+03\n",
      " 1.39700011e+03 1.74099956e+03 2.16199960e+03 2.37699973e+03\n",
      " 2.65699991e+03 3.56299969e+03 2.80100005e+03 2.51700002e+03\n",
      " 2.66299976e+03 2.25300029e+03 1.78399985e+03 1.92599977e+03\n",
      " 1.60900015e+03 1.61700003e+03 1.11600018e+03 5.26000620e+02\n",
      " 1.26799968e+03 1.18199988e+03 9.73000269e+02 5.49000436e+02\n",
      " 6.46000013e+02 4.50000330e+02 8.14999677e+02 6.34000086e+02\n",
      " 7.79999715e+02 8.83999967e+02 1.13699966e+03 1.40699948e+03\n",
      " 1.69599960e+03 1.88399963e+03 1.48900002e+03 1.61799967e+03\n",
      " 1.07500036e+03 1.30499968e+03 1.20899985e+03 1.29899974e+03\n",
      " 1.16700025e+03 9.09000301e+02 1.03700016e+03 8.97000281e+02\n",
      " 8.12000383e+02 7.82999898e+02 6.81000414e+02 5.39000077e+02\n",
      " 4.49000282e+02 3.52000514e+02 4.05000190e+02 3.85000477e+02\n",
      " 5.39999971e+02 6.83000390e+02 7.75999795e+02 8.72000059e+02\n",
      " 1.04499978e+03 9.91999956e+02 1.07999973e+03 1.05500017e+03\n",
      " 1.11999993e+03 1.15399982e+03 9.83000303e+02 9.20000098e+02\n",
      " 9.06000147e+02 8.69000206e+02 8.65000172e+02 5.37000427e+02\n",
      " 6.79000093e+02 7.26999960e+02 5.24000449e+02 2.56000634e+02\n",
      " 4.06000088e+02 4.16000011e+02 4.40999804e+02 4.28999966e+02\n",
      " 5.13999870e+02 3.80000321e+02 9.14999660e+02 1.09099976e+03\n",
      " 1.21299960e+03 1.15000012e+03 1.24199979e+03 1.42099949e+03\n",
      " 1.55799984e+03 1.16000012e+03 1.25300008e+03 9.42000264e+02\n",
      " 9.36000076e+02 1.21999955e+03 9.83000246e+02 8.52000291e+02\n",
      " 8.55999747e+02 8.82000135e+02 5.03000124e+02 4.11000211e+02\n",
      " 3.00005667e+01 2.80003690e+01 2.60004883e+01 1.30006695e+01\n",
      " 1.70006541e+01 3.60000749e+01 3.60002521e+01 8.49998312e+01\n",
      " 5.90002208e+01 4.90004064e+01 5.20004474e+01]\n",
      "\n",
      "Sample 2:\n",
      " MSE : 9.835521900158752e-08\n",
      "[1.62709990e+04 6.49699977e+03 9.03899925e+03 5.01299980e+03\n",
      " 3.29300032e+03 2.60200003e+03 2.54399989e+03 3.30999961e+03\n",
      " 4.06999985e+03 4.68899977e+03 5.02299980e+03 5.05199980e+03\n",
      " 4.52899988e+03 6.07499929e+03 5.14299978e+03 7.56499926e+03\n",
      " 7.46699925e+03 6.55499973e+03 6.48199972e+03 5.82199987e+03\n",
      " 5.17499978e+03 4.38000024e+03 4.12600003e+03 3.56600004e+03\n",
      " 2.99399989e+03 2.27600027e+03 1.86300025e+03 1.40400027e+03\n",
      " 1.34700009e+03 1.22500006e+03 1.15699993e+03 1.30999989e+03\n",
      " 1.39700011e+03 1.74099956e+03 2.16199960e+03 2.37699973e+03\n",
      " 2.65699991e+03 3.56299969e+03 2.80100005e+03 2.51700002e+03\n",
      " 2.66299976e+03 2.25300029e+03 1.78399985e+03 1.92599977e+03\n",
      " 1.60900015e+03 1.61700003e+03 1.11600018e+03 5.26000620e+02\n",
      " 1.26799968e+03 1.18199988e+03 9.73000269e+02 5.49000436e+02\n",
      " 6.46000013e+02 4.50000330e+02 8.14999677e+02 6.34000086e+02\n",
      " 7.79999715e+02 8.83999967e+02 1.13699966e+03 1.40699948e+03\n",
      " 1.69599960e+03 1.88399963e+03 1.48900002e+03 1.61799967e+03\n",
      " 1.07500036e+03 1.30499968e+03 1.20899985e+03 1.29899974e+03\n",
      " 1.16700025e+03 9.09000301e+02 1.03700016e+03 8.97000281e+02\n",
      " 8.12000383e+02 7.82999898e+02 6.81000414e+02 5.39000077e+02\n",
      " 4.49000282e+02 3.52000514e+02 4.05000190e+02 3.85000477e+02\n",
      " 5.39999971e+02 6.83000390e+02 7.75999795e+02 8.72000059e+02\n",
      " 1.04499978e+03 9.91999956e+02 1.07999973e+03 1.05500017e+03\n",
      " 1.11999993e+03 1.15399982e+03 9.83000303e+02 9.20000098e+02\n",
      " 9.06000147e+02 8.69000206e+02 8.65000172e+02 5.37000427e+02\n",
      " 6.79000093e+02 7.26999960e+02 5.24000449e+02 2.56000634e+02\n",
      " 4.06000088e+02 4.16000011e+02 4.40999804e+02 4.28999966e+02\n",
      " 5.13999870e+02 3.80000321e+02 9.14999660e+02 1.09099976e+03\n",
      " 1.21299960e+03 1.15000012e+03 1.24199979e+03 1.42099949e+03\n",
      " 1.55799984e+03 1.16000012e+03 1.25300008e+03 9.42000264e+02\n",
      " 9.36000076e+02 1.21999955e+03 9.83000246e+02 8.52000291e+02\n",
      " 8.55999747e+02 8.82000135e+02 5.03000124e+02 4.11000211e+02\n",
      " 3.00005667e+01 2.80003690e+01 2.60004883e+01 1.30006695e+01\n",
      " 1.70006541e+01 3.60000749e+01 3.60002521e+01 8.49998312e+01\n",
      " 5.90002208e+01 4.90004064e+01 5.20004474e+01]\n",
      "------------------------------------------------------------\n",
      "\n",
      "\n",
      "\n"
     ]
    }
   ],
   "source": [
    "##sample 0\n",
    "pred_y = results.predict(tp3_test_p3_s0_features)\n",
    "y = tp3_test_p3_s0_labels\n",
    "print(\"\\nSample 0:\\n MSE : {}\".format(ste.mse(pred_y, y,axis=0)))\n",
    "print(pred_y)\n",
    "\n",
    "##sample 1\n",
    "pred_y = results.predict(tp3_test_p3_s1_features)\n",
    "y = tp3_test_p3_s1_labels\n",
    "print(\"\\nSample 1:\\n MSE : {}\".format(ste.mse(pred_y, y,axis=0)))\n",
    "print(pred_y)\n",
    "\n",
    "##sample 2\n",
    "pred_y = results.predict(tp3_test_p3_s2_features)\n",
    "y = tp3_test_p3_s2_labels\n",
    "print(\"\\nSample 2:\\n MSE : {}\".format(ste.mse(pred_y, y,axis=0)))\n",
    "print(pred_y)\n",
    "print('---'*20)\n",
    "print('\\n\\n')"
   ]
  },
  {
   "cell_type": "markdown",
   "metadata": {},
   "source": [
    "#### Training Neural Network"
   ]
  },
  {
   "cell_type": "code",
   "execution_count": 37,
   "metadata": {},
   "outputs": [],
   "source": [
    "from sklearn.neural_network import MLPRegressor\n",
    "from sklearn.metrics import mean_squared_error\n",
    "from sklearn.preprocessing import StandardScaler\n",
    "\n",
    "X = tp3_train_features\n",
    "y = tp3_train_labels\n",
    "nn = MLPRegressor(hidden_layer_sizes=(200,200),max_iter=500)\n",
    "results = nn.fit(X,y)"
   ]
  },
  {
   "cell_type": "markdown",
   "metadata": {},
   "source": [
    "#### Testing Neural Network"
   ]
  },
  {
   "cell_type": "code",
   "execution_count": 38,
   "metadata": {},
   "outputs": [
    {
     "name": "stdout",
     "output_type": "stream",
     "text": [
      "\n",
      "Sample 0:\n",
      " MSE : 1817388020.0557055\n",
      "[ 1.84629038e+01  1.09644394e+04  1.61719221e+05  9.62021406e+04\n",
      "  9.81289416e+04  5.05255494e+04  2.51083356e+04  3.85426313e+04\n",
      "  4.44434222e+04  1.15405432e+05  7.56205965e+04  1.48881349e+04\n",
      "  9.14634636e+04  5.93336765e+04  9.58077710e+04  9.77467197e+04\n",
      "  2.07973492e+04  4.41375408e+04  1.47371410e+04  6.07811158e+04\n",
      "  2.32609510e+03  3.23822208e+04  8.69919521e+04  2.04491141e+04\n",
      "  1.15658507e+04  2.87666523e+04  9.57072846e+04  3.20631944e+04\n",
      "  2.91938112e+04 -8.66891035e+03 -7.26134632e+04  2.93446690e+04\n",
      "  3.42191594e+04  2.02326607e+04  2.12428553e+04  8.45143231e+04\n",
      "  7.65686614e+04  1.23705458e+04  7.45681684e+04  7.20466584e+04\n",
      "  7.04234301e+04  8.17840933e+04 -4.90354689e+04  7.30672673e+04\n",
      "  4.38499955e+04  6.97325914e+04 -9.54621295e+04  2.02344806e+04\n",
      "  1.73066660e+04  1.38634705e+04 -7.72451647e+04  3.70738101e+03\n",
      " -1.80745960e+04  4.40321354e+04 -1.01975367e+02  5.47471500e+03\n",
      "  5.07598349e+03  7.12505970e+03  7.97569448e+03  2.53015308e+04\n",
      "  1.46710775e+04  1.75858157e+04  1.45116862e+04  4.63197598e+04\n",
      "  3.38930141e+04  2.21617544e+04 -6.23113078e+04  3.89706264e+04\n",
      "  4.76760725e+04  6.95175873e+04 -7.87847300e+04 -4.28139631e+04\n",
      "  1.19717442e+04  9.86232885e+02 -2.87675176e+04  1.66590420e+04\n",
      " -6.27730389e+03 -1.61110904e+02  1.41551048e+03 -2.20436484e+04\n",
      " -5.68603668e+03 -2.05167981e+04  2.64616172e+03  6.30579038e+03\n",
      " -3.70637158e+04 -5.98012286e+04 -4.94034263e+04  1.12177554e+04\n",
      "  1.09556049e+04  1.08427461e+04  1.11804728e+04 -7.75907444e+04\n",
      "  1.14406657e+04 -4.00061169e+04  8.84864833e+03  5.19935871e+03\n",
      "  4.54814411e+03  2.18570827e+03 -9.83122710e+02  1.84935563e+04\n",
      " -1.26245084e+04  5.71346926e+02  2.41584197e+02  1.78742296e+03\n",
      "  1.54679441e+04 -2.14479953e+02 -2.43213365e+04  7.78568074e+03\n",
      "  2.17681689e+03  9.12360611e+03  1.80195240e+04  3.69835541e+03\n",
      "  2.69847686e+04  1.82040133e+04  2.17216520e+04  1.08245157e+04\n",
      "  2.01597930e+03 -2.34383650e+04  6.17370899e+03 -1.98851045e+04\n",
      "  1.77028448e+03 -8.18382871e+04  5.83173009e+02  1.09541795e+02\n",
      "  4.26748925e+03 -1.07550327e+02  4.30950406e+04  3.61923232e+01\n",
      " -5.48369890e+02 -1.38693827e+01  3.87677072e+01 -9.71152543e+02\n",
      "  1.38805016e+03  3.63572252e+03  7.91108717e+02]\n",
      "\n",
      "Sample 1:\n",
      " MSE : 1817388020.0557055\n",
      "[ 1.84629038e+01  1.09644394e+04  1.61719221e+05  9.62021406e+04\n",
      "  9.81289416e+04  5.05255494e+04  2.51083356e+04  3.85426313e+04\n",
      "  4.44434222e+04  1.15405432e+05  7.56205965e+04  1.48881349e+04\n",
      "  9.14634636e+04  5.93336765e+04  9.58077710e+04  9.77467197e+04\n",
      "  2.07973492e+04  4.41375408e+04  1.47371410e+04  6.07811158e+04\n",
      "  2.32609510e+03  3.23822208e+04  8.69919521e+04  2.04491141e+04\n",
      "  1.15658507e+04  2.87666523e+04  9.57072846e+04  3.20631944e+04\n",
      "  2.91938112e+04 -8.66891035e+03 -7.26134632e+04  2.93446690e+04\n",
      "  3.42191594e+04  2.02326607e+04  2.12428553e+04  8.45143231e+04\n",
      "  7.65686614e+04  1.23705458e+04  7.45681684e+04  7.20466584e+04\n",
      "  7.04234301e+04  8.17840933e+04 -4.90354689e+04  7.30672673e+04\n",
      "  4.38499955e+04  6.97325914e+04 -9.54621295e+04  2.02344806e+04\n",
      "  1.73066660e+04  1.38634705e+04 -7.72451647e+04  3.70738101e+03\n",
      " -1.80745960e+04  4.40321354e+04 -1.01975367e+02  5.47471500e+03\n",
      "  5.07598349e+03  7.12505970e+03  7.97569448e+03  2.53015308e+04\n",
      "  1.46710775e+04  1.75858157e+04  1.45116862e+04  4.63197598e+04\n",
      "  3.38930141e+04  2.21617544e+04 -6.23113078e+04  3.89706264e+04\n",
      "  4.76760725e+04  6.95175873e+04 -7.87847300e+04 -4.28139631e+04\n",
      "  1.19717442e+04  9.86232885e+02 -2.87675176e+04  1.66590420e+04\n",
      " -6.27730389e+03 -1.61110904e+02  1.41551048e+03 -2.20436484e+04\n",
      " -5.68603668e+03 -2.05167981e+04  2.64616172e+03  6.30579038e+03\n",
      " -3.70637158e+04 -5.98012286e+04 -4.94034263e+04  1.12177554e+04\n",
      "  1.09556049e+04  1.08427461e+04  1.11804728e+04 -7.75907444e+04\n",
      "  1.14406657e+04 -4.00061169e+04  8.84864833e+03  5.19935871e+03\n",
      "  4.54814411e+03  2.18570827e+03 -9.83122710e+02  1.84935563e+04\n",
      " -1.26245084e+04  5.71346926e+02  2.41584197e+02  1.78742296e+03\n",
      "  1.54679441e+04 -2.14479953e+02 -2.43213365e+04  7.78568074e+03\n",
      "  2.17681689e+03  9.12360611e+03  1.80195240e+04  3.69835541e+03\n",
      "  2.69847686e+04  1.82040133e+04  2.17216520e+04  1.08245157e+04\n",
      "  2.01597930e+03 -2.34383650e+04  6.17370899e+03 -1.98851045e+04\n",
      "  1.77028448e+03 -8.18382871e+04  5.83173009e+02  1.09541795e+02\n",
      "  4.26748925e+03 -1.07550327e+02  4.30950406e+04  3.61923232e+01\n",
      " -5.48369890e+02 -1.38693827e+01  3.87677072e+01 -9.71152543e+02\n",
      "  1.38805016e+03  3.63572252e+03  7.91108717e+02]\n",
      "\n",
      "Sample 2:\n",
      " MSE : 1817388020.0557055\n",
      "[ 1.84629038e+01  1.09644394e+04  1.61719221e+05  9.62021406e+04\n",
      "  9.81289416e+04  5.05255494e+04  2.51083356e+04  3.85426313e+04\n",
      "  4.44434222e+04  1.15405432e+05  7.56205965e+04  1.48881349e+04\n",
      "  9.14634636e+04  5.93336765e+04  9.58077710e+04  9.77467197e+04\n",
      "  2.07973492e+04  4.41375408e+04  1.47371410e+04  6.07811158e+04\n",
      "  2.32609510e+03  3.23822208e+04  8.69919521e+04  2.04491141e+04\n",
      "  1.15658507e+04  2.87666523e+04  9.57072846e+04  3.20631944e+04\n",
      "  2.91938112e+04 -8.66891035e+03 -7.26134632e+04  2.93446690e+04\n",
      "  3.42191594e+04  2.02326607e+04  2.12428553e+04  8.45143231e+04\n",
      "  7.65686614e+04  1.23705458e+04  7.45681684e+04  7.20466584e+04\n",
      "  7.04234301e+04  8.17840933e+04 -4.90354689e+04  7.30672673e+04\n",
      "  4.38499955e+04  6.97325914e+04 -9.54621295e+04  2.02344806e+04\n",
      "  1.73066660e+04  1.38634705e+04 -7.72451647e+04  3.70738101e+03\n",
      " -1.80745960e+04  4.40321354e+04 -1.01975367e+02  5.47471500e+03\n",
      "  5.07598349e+03  7.12505970e+03  7.97569448e+03  2.53015308e+04\n",
      "  1.46710775e+04  1.75858157e+04  1.45116862e+04  4.63197598e+04\n",
      "  3.38930141e+04  2.21617544e+04 -6.23113078e+04  3.89706264e+04\n",
      "  4.76760725e+04  6.95175873e+04 -7.87847300e+04 -4.28139631e+04\n",
      "  1.19717442e+04  9.86232885e+02 -2.87675176e+04  1.66590420e+04\n",
      " -6.27730389e+03 -1.61110904e+02  1.41551048e+03 -2.20436484e+04\n",
      " -5.68603668e+03 -2.05167981e+04  2.64616172e+03  6.30579038e+03\n",
      " -3.70637158e+04 -5.98012286e+04 -4.94034263e+04  1.12177554e+04\n",
      "  1.09556049e+04  1.08427461e+04  1.11804728e+04 -7.75907444e+04\n",
      "  1.14406657e+04 -4.00061169e+04  8.84864833e+03  5.19935871e+03\n",
      "  4.54814411e+03  2.18570827e+03 -9.83122710e+02  1.84935563e+04\n",
      " -1.26245084e+04  5.71346926e+02  2.41584197e+02  1.78742296e+03\n",
      "  1.54679441e+04 -2.14479953e+02 -2.43213365e+04  7.78568074e+03\n",
      "  2.17681689e+03  9.12360611e+03  1.80195240e+04  3.69835541e+03\n",
      "  2.69847686e+04  1.82040133e+04  2.17216520e+04  1.08245157e+04\n",
      "  2.01597930e+03 -2.34383650e+04  6.17370899e+03 -1.98851045e+04\n",
      "  1.77028448e+03 -8.18382871e+04  5.83173009e+02  1.09541795e+02\n",
      "  4.26748925e+03 -1.07550327e+02  4.30950406e+04  3.61923232e+01\n",
      " -5.48369890e+02 -1.38693827e+01  3.87677072e+01 -9.71152543e+02\n",
      "  1.38805016e+03  3.63572252e+03  7.91108717e+02]\n",
      "------------------------------------------------------------\n",
      "\n",
      "\n",
      "\n"
     ]
    }
   ],
   "source": [
    "##sample 0\n",
    "pred_y = results.predict(tp3_test_p3_s0_features)\n",
    "y = tp3_test_p3_s0_labels\n",
    "print(\"\\nSample 0:\\n MSE : {}\".format(ste.mse(pred_y, y,axis=0)))\n",
    "print(pred_y)\n",
    "\n",
    "##sample 1\n",
    "pred_y = results.predict(tp3_test_p3_s1_features)\n",
    "y = tp3_test_p3_s1_labels\n",
    "print(\"\\nSample 1:\\n MSE : {}\".format(ste.mse(pred_y, y,axis=0)))\n",
    "print(pred_y)\n",
    "\n",
    "##sample 2\n",
    "pred_y = results.predict(tp3_test_p3_s2_features)\n",
    "y = tp3_test_p3_s2_labels\n",
    "print(\"\\nSample 2:\\n MSE : {}\".format(ste.mse(pred_y, y,axis=0)))\n",
    "print(pred_y)\n",
    "print('---'*20)\n",
    "print('\\n\\n')"
   ]
  },
  {
   "cell_type": "code",
   "execution_count": null,
   "metadata": {},
   "outputs": [],
   "source": []
  }
 ],
 "metadata": {
  "kernelspec": {
   "display_name": "Python 3",
   "language": "python",
   "name": "python3"
  },
  "language_info": {
   "codemirror_mode": {
    "name": "ipython",
    "version": 3
   },
   "file_extension": ".py",
   "mimetype": "text/x-python",
   "name": "python",
   "nbconvert_exporter": "python",
   "pygments_lexer": "ipython3",
   "version": "3.6.0"
  }
 },
 "nbformat": 4,
 "nbformat_minor": 2
}
