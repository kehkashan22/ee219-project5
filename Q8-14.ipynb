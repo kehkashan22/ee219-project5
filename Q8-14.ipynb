{
 "cells": [
  {
   "cell_type": "code",
   "execution_count": 24,
   "metadata": {},
   "outputs": [],
   "source": [
    "hash_tags = ['#gohawks','#gopatriots','#nfl','#patriots','#sb49','#superbowl']"
   ]
  },
  {
   "cell_type": "code",
   "execution_count": 25,
   "metadata": {},
   "outputs": [],
   "source": [
    "import json\n",
    "\n",
    "def getMinAndMaxTs(tag):\n",
    "    filename = 'data/tweets_'+tag+'.txt'\n",
    "    max_ts = 0\n",
    "    min_ts = 1552522378\n",
    "    with open(filename) as f:\n",
    "        for line in f:\n",
    "            json_object = json.loads(line)\n",
    "            timestamp = json_object['citation_date']\n",
    "            if(timestamp < min_ts):                \n",
    "                min_ts = timestamp\n",
    "            \n",
    "            if(timestamp > max_ts):\n",
    "                max_ts = timestamp\n",
    "                \n",
    "    return [min_ts,max_ts]"
   ]
  },
  {
   "cell_type": "code",
   "execution_count": 27,
   "metadata": {},
   "outputs": [],
   "source": [
    "tagsToMinTs = {}\n",
    "tagsToMaxTs = {}\n",
    "for tag in hash_tags:\n",
    "    ts_list = getMinAndMaxTs(tag)\n",
    "    tagsToMinTs[tag] = (ts_list[0])\n",
    "    tagsToMaxTs[tag] = (ts_list[1])    "
   ]
  },
  {
   "cell_type": "code",
   "execution_count": 28,
   "metadata": {},
   "outputs": [],
   "source": [
    "MODE='FRESH'\n",
    "\n",
    "import pickle\n",
    "\n",
    "def save_object(data, fileName):\n",
    "    with open(fileName + \".pickle\", 'wb') as f:\n",
    "        pickle.dump(data, f, pickle.HIGHEST_PROTOCOL)\n",
    "        \n",
    "def load_object(fileName):\n",
    "    try:\n",
    "        with open(fileName + \".pickle\", 'rb') as f:\n",
    "            data = pickle.load(f)\n",
    "            return data\n",
    "    except IOError:\n",
    "        print(\"Could not read file: \" + fileName)"
   ]
  },
  {
   "cell_type": "code",
   "execution_count": 33,
   "metadata": {},
   "outputs": [],
   "source": [
    "import math\n",
    "import datetime\n",
    "import pytz\n",
    "\n",
    "\n",
    "def getLocalHour(timestamp):\n",
    "    d = datetime.datetime.fromtimestamp(timestamp)\n",
    "    pst = pytz.timezone('America/Los_Angeles')\n",
    "    d = pst.localize(d)\n",
    "    return d.hour\n",
    "\n",
    "def getWindowNumber(start_ts, curr_ts, window):\n",
    "    elapsed = (curr_ts - start_ts)/(window*1.0)\n",
    "    windowNum = math.ceil(elapsed)\n",
    "    return windowNum    \n",
    "\n",
    "def getFeatures(tag,start_ts,end_ts,window):\n",
    "    windowToTweets = {}\n",
    "    windowToRetweets = {}\n",
    "    windowToFollowerCount = {}\n",
    "    windowToMaxFollowers = {}\n",
    "    features = []\n",
    "    labels = []\n",
    "    \n",
    "    filename = 'data/tweets_'+tag+'.txt'\n",
    "    with open(filename) as f:\n",
    "        for line in f:\n",
    "            json_object = json.loads(line)\n",
    "            timestamp = json_object['citation_date']\n",
    "            \n",
    "            if timestamp < start_ts or timestamp > end_ts:                            \n",
    "                continue\n",
    "                \n",
    "            key = getWindowNumber(start_ts,timestamp,window)\n",
    "            if key not in windowToTweets.keys():\n",
    "                windowToTweets[key]=0\n",
    "            windowToTweets[key]+=1\n",
    "            \n",
    "            retweetCount = json_object['metrics']['citations']['total']        \n",
    "            \n",
    "            if key not in windowToRetweets.keys():\n",
    "                windowToRetweets[key]=0\n",
    "            windowToRetweets[key]+=retweetCount\n",
    "        \n",
    "            followerCount = json_object['author']['followers']\n",
    "            if key not in windowToFollowerCount.keys():\n",
    "                windowToFollowerCount[key]=0\n",
    "            windowToFollowerCount[key]+=followerCount\n",
    "        \n",
    "            if key not in windowToMaxFollowers.keys():\n",
    "                windowToMaxFollowers[key]=0\n",
    "            windowToMaxFollowers[key] = max(windowToMaxFollowers[key],followerCount)            \n",
    "            \n",
    "        for period in range(start_ts,end_ts,window):\n",
    "            key = period\n",
    "            tweetCount = windowToTweets.get(key, 0)\n",
    "            retweetCount = windowToRetweets.get(key,0)\n",
    "            followerCount = windowToFollowerCount.get(key,0)\n",
    "            maxFollowers = windowToMaxFollowers.get(key,0)\n",
    "\n",
    "            h = getLocalHour(key)\n",
    "            \n",
    "            feature = [tweetCount, retweetCount, followerCount, maxFollowers, h]\n",
    "            features.append(feature)\n",
    "                \n",
    "            nextKey = period + window\n",
    "            labels.append(windowToTweets.get(nextKey,0))\n",
    "                \n",
    "    return features,labels"
   ]
  },
  {
   "cell_type": "markdown",
   "metadata": {},
   "source": [
    "1. Before Feb. 1, 8:00 a.m.: 1-hour window\n",
    "2. Between Feb. 1, 8:00 a.m. and 8:00 p.m.: 5-minute window \n",
    "3. After Feb. 1, 8:00 p.m.: 1-hour window\n"
   ]
  },
  {
   "cell_type": "code",
   "execution_count": null,
   "metadata": {},
   "outputs": [
    {
     "name": "stdout",
     "output_type": "stream",
     "text": [
      "Started #gohawks\n",
      "440\n",
      "Finished #gohawks\n",
      "Started #gopatriots\n",
      "439\n",
      "Finished #gopatriots\n",
      "Started #nfl\n",
      "440\n",
      "Finished #nfl\n",
      "Started #patriots\n",
      "440\n",
      "Finished #patriots\n",
      "Started #sb49\n",
      "436\n",
      "Finished #sb49\n",
      "Started #superbowl\n"
     ]
    }
   ],
   "source": [
    "for tag in hash_tags:\n",
    "    print(\"Started {}\".format(tag))\n",
    "    tp1_window_size = 3600 # 1 hour window size\n",
    "    tp1_start_ts = tp1_window_size * math.floor(tagsToMinTs[tag]/(tp1_window_size*1.0))\n",
    "    tp1_end_ts = 1422806400\n",
    "    features,labels = getFeatures(tag,tp1_start_ts,tp1_end_ts,tp1_window_size)\n",
    "    print(len(features))\n",
    "    save_object(features, \"tp1_features_{}\".format(tag))\n",
    "    save_object(labels, \"tp1_labels_{}\".format(tag))\n",
    "    print(\"Finished {}\".format(tag))"
   ]
  },
  {
   "cell_type": "code",
   "execution_count": null,
   "metadata": {},
   "outputs": [],
   "source": [
    "#tp2\n",
    "for tag in hash_tags:\n",
    "    print(\"Started {}\".format(tag))\n",
    "    tp2_window_size = 300 # 5 minute window size\n",
    "    tp2_start_ts = 1422806400\n",
    "    tp2_end_ts = 1422849600\n",
    "    features,labels = getFeatures(tag,tp2_start_ts,tp2_end_ts,tp2_window_size)\n",
    "    save_object(features, \"tp2_features_{}\".format(tag))\n",
    "    save_object(labels, \"tp2_labels_{}\".format(tag))\n",
    "    print(\"Finished {}\".format(tag))"
   ]
  },
  {
   "cell_type": "code",
   "execution_count": 21,
   "metadata": {},
   "outputs": [
    {
     "data": {
      "text/plain": [
       "43200"
      ]
     },
     "execution_count": 21,
     "metadata": {},
     "output_type": "execute_result"
    }
   ],
   "source": [
    "#tp3\n",
    "for tag in hash_tags:\n",
    "    print(\"Started {}\".format(tag))\n",
    "    tp3_window_size = 3600 # 1 hour window size\n",
    "    tp3_start_ts = 1422849600\n",
    "    tp3_end_ts = tp3_window_size * math.ceil(tagsToMaxTs[tag]/(tp3_window_size*1.0))\n",
    "    features,labels = getFeatures(tag,tp3_start_ts,tp3_end_ts,tp3_window_size)\n",
    "    save_object(features, \"tp3_features_{}\".format(tag))\n",
    "    save_object(labels, \"tp3_labels_{}\".format(tag))\n",
    "    print(\"Finished {}\".format(tag))"
   ]
  },
  {
   "cell_type": "code",
   "execution_count": null,
   "metadata": {},
   "outputs": [],
   "source": []
  }
 ],
 "metadata": {
  "kernelspec": {
   "display_name": "Python 3",
   "language": "python",
   "name": "python3"
  },
  "language_info": {
   "codemirror_mode": {
    "name": "ipython",
    "version": 3
   },
   "file_extension": ".py",
   "mimetype": "text/x-python",
   "name": "python",
   "nbconvert_exporter": "python",
   "pygments_lexer": "ipython3",
   "version": "3.6.0"
  }
 },
 "nbformat": 4,
 "nbformat_minor": 2
}
